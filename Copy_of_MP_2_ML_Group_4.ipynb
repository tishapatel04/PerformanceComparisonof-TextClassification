{
  "nbformat": 4,
  "nbformat_minor": 5,
  "metadata": {
    "kernelspec": {
      "display_name": "Python 3",
      "language": "python",
      "name": "python3"
    },
    "language_info": {
      "codemirror_mode": {
        "name": "ipython",
        "version": 3
      },
      "file_extension": ".py",
      "mimetype": "text/x-python",
      "name": "python",
      "nbconvert_exporter": "python",
      "pygments_lexer": "ipython3",
      "version": "3.8.3"
    },
    "colab": {
      "provenance": []
    }
  },
  "cells": [
    {
      "cell_type": "markdown",
      "metadata": {
        "id": "w8EPNbnikgkx"
      },
      "source": [
        "# **ReadMe:**\n",
        "\n",
        "Note: Look at each cell for more instruction\n",
        "\n",
        "1) First, upload the _train.csv_ and _test.csv_ files which will be used for the training and testing pupose of various algorithms.\n",
        "\n",
        "---\n",
        "2) At the start, code of the pre-processing of the data and the divison of the data according to the class it belongs to is present, which can be run for future requirements.\n",
        "\n",
        "---\n",
        "3) Class of _Bernoulli Naive Bayes_ which is developed from scratch and can be  used for the k-fold, and for the training set accuracy calculation.\n",
        "\n",
        "---\n",
        "4) Various Sci-Kit learn Algorithms are implemented, it will generate the accuracy of the test set which has been divided using the _train_test_split_ of Sci-Kit Learn.\n",
        "\n",
        "---\n",
        "5) Various Feature Construction methods are implemented such as Bit Vectorizer, Term Frequency Vectorizer, and TF-IDF; and can be used for experiment purpose.\n",
        "\n",
        "---\n",
        "6) K-fold of all the Sci-Kit Models are performed using the KFold of Sklearn.\n",
        "\n",
        "---"
      ],
      "id": "w8EPNbnikgkx"
    },
    {
      "cell_type": "markdown",
      "metadata": {
        "id": "07XndusVPBog"
      },
      "source": [
        "This is the main python file for Mini Project-2 of ECSE-551: Machine Learning for Engineers\n",
        "- In this code, Bernoulli Naive Bayes is implemented and also other models are tested using the SciKit Learn.\n",
        "\n",
        "\n"
      ],
      "id": "07XndusVPBog"
    },
    {
      "cell_type": "markdown",
      "metadata": {
        "id": "X788-bJOO885"
      },
      "source": [
        "Uploading the data files for training and testing purpose \n",
        "- Just upload the train.csv and test.csv files\n"
      ],
      "id": "X788-bJOO885"
    },
    {
      "cell_type": "code",
      "metadata": {
        "id": "after-catholic",
        "colab": {
          "base_uri": "https://localhost:8080/",
          "height": 164
        },
        "outputId": "16fdd2bf-c05a-4327-bfd1-21eec3c096eb"
      },
      "source": [
        "# Uploading the data files for training and testing purpose #\n",
        "\n",
        "from google.colab import files \n",
        "import pandas as pd\n",
        "import io\n",
        "import sklearn\n",
        "\n",
        "print(\"Upload train.csv file from your local drive\")   \n",
        "file = files.upload()                                                \n",
        "df = pd.read_csv(io.BytesIO(file['train.csv']),encoding='unicode_escape') \n",
        "\n",
        "print(\"Upload test.csv file from your local drive\")   \n",
        "file = files.upload()                                                \n",
        "df_test = pd.read_csv(io.BytesIO(file['test.csv']),encoding='unicode_escape') "
      ],
      "id": "after-catholic",
      "execution_count": null,
      "outputs": [
        {
          "output_type": "stream",
          "name": "stdout",
          "text": [
            "Upload train.csv file from your local drive\n"
          ]
        },
        {
          "output_type": "display_data",
          "data": {
            "text/plain": [
              "<IPython.core.display.HTML object>"
            ],
            "text/html": [
              "\n",
              "     <input type=\"file\" id=\"files-578cf258-8146-4691-aaeb-16dcc6e83d66\" name=\"files[]\" multiple disabled\n",
              "        style=\"border:none\" />\n",
              "     <output id=\"result-578cf258-8146-4691-aaeb-16dcc6e83d66\">\n",
              "      Upload widget is only available when the cell has been executed in the\n",
              "      current browser session. Please rerun this cell to enable.\n",
              "      </output>\n",
              "      <script>// Copyright 2017 Google LLC\n",
              "//\n",
              "// Licensed under the Apache License, Version 2.0 (the \"License\");\n",
              "// you may not use this file except in compliance with the License.\n",
              "// You may obtain a copy of the License at\n",
              "//\n",
              "//      http://www.apache.org/licenses/LICENSE-2.0\n",
              "//\n",
              "// Unless required by applicable law or agreed to in writing, software\n",
              "// distributed under the License is distributed on an \"AS IS\" BASIS,\n",
              "// WITHOUT WARRANTIES OR CONDITIONS OF ANY KIND, either express or implied.\n",
              "// See the License for the specific language governing permissions and\n",
              "// limitations under the License.\n",
              "\n",
              "/**\n",
              " * @fileoverview Helpers for google.colab Python module.\n",
              " */\n",
              "(function(scope) {\n",
              "function span(text, styleAttributes = {}) {\n",
              "  const element = document.createElement('span');\n",
              "  element.textContent = text;\n",
              "  for (const key of Object.keys(styleAttributes)) {\n",
              "    element.style[key] = styleAttributes[key];\n",
              "  }\n",
              "  return element;\n",
              "}\n",
              "\n",
              "// Max number of bytes which will be uploaded at a time.\n",
              "const MAX_PAYLOAD_SIZE = 100 * 1024;\n",
              "\n",
              "function _uploadFiles(inputId, outputId) {\n",
              "  const steps = uploadFilesStep(inputId, outputId);\n",
              "  const outputElement = document.getElementById(outputId);\n",
              "  // Cache steps on the outputElement to make it available for the next call\n",
              "  // to uploadFilesContinue from Python.\n",
              "  outputElement.steps = steps;\n",
              "\n",
              "  return _uploadFilesContinue(outputId);\n",
              "}\n",
              "\n",
              "// This is roughly an async generator (not supported in the browser yet),\n",
              "// where there are multiple asynchronous steps and the Python side is going\n",
              "// to poll for completion of each step.\n",
              "// This uses a Promise to block the python side on completion of each step,\n",
              "// then passes the result of the previous step as the input to the next step.\n",
              "function _uploadFilesContinue(outputId) {\n",
              "  const outputElement = document.getElementById(outputId);\n",
              "  const steps = outputElement.steps;\n",
              "\n",
              "  const next = steps.next(outputElement.lastPromiseValue);\n",
              "  return Promise.resolve(next.value.promise).then((value) => {\n",
              "    // Cache the last promise value to make it available to the next\n",
              "    // step of the generator.\n",
              "    outputElement.lastPromiseValue = value;\n",
              "    return next.value.response;\n",
              "  });\n",
              "}\n",
              "\n",
              "/**\n",
              " * Generator function which is called between each async step of the upload\n",
              " * process.\n",
              " * @param {string} inputId Element ID of the input file picker element.\n",
              " * @param {string} outputId Element ID of the output display.\n",
              " * @return {!Iterable<!Object>} Iterable of next steps.\n",
              " */\n",
              "function* uploadFilesStep(inputId, outputId) {\n",
              "  const inputElement = document.getElementById(inputId);\n",
              "  inputElement.disabled = false;\n",
              "\n",
              "  const outputElement = document.getElementById(outputId);\n",
              "  outputElement.innerHTML = '';\n",
              "\n",
              "  const pickedPromise = new Promise((resolve) => {\n",
              "    inputElement.addEventListener('change', (e) => {\n",
              "      resolve(e.target.files);\n",
              "    });\n",
              "  });\n",
              "\n",
              "  const cancel = document.createElement('button');\n",
              "  inputElement.parentElement.appendChild(cancel);\n",
              "  cancel.textContent = 'Cancel upload';\n",
              "  const cancelPromise = new Promise((resolve) => {\n",
              "    cancel.onclick = () => {\n",
              "      resolve(null);\n",
              "    };\n",
              "  });\n",
              "\n",
              "  // Wait for the user to pick the files.\n",
              "  const files = yield {\n",
              "    promise: Promise.race([pickedPromise, cancelPromise]),\n",
              "    response: {\n",
              "      action: 'starting',\n",
              "    }\n",
              "  };\n",
              "\n",
              "  cancel.remove();\n",
              "\n",
              "  // Disable the input element since further picks are not allowed.\n",
              "  inputElement.disabled = true;\n",
              "\n",
              "  if (!files) {\n",
              "    return {\n",
              "      response: {\n",
              "        action: 'complete',\n",
              "      }\n",
              "    };\n",
              "  }\n",
              "\n",
              "  for (const file of files) {\n",
              "    const li = document.createElement('li');\n",
              "    li.append(span(file.name, {fontWeight: 'bold'}));\n",
              "    li.append(span(\n",
              "        `(${file.type || 'n/a'}) - ${file.size} bytes, ` +\n",
              "        `last modified: ${\n",
              "            file.lastModifiedDate ? file.lastModifiedDate.toLocaleDateString() :\n",
              "                                    'n/a'} - `));\n",
              "    const percent = span('0% done');\n",
              "    li.appendChild(percent);\n",
              "\n",
              "    outputElement.appendChild(li);\n",
              "\n",
              "    const fileDataPromise = new Promise((resolve) => {\n",
              "      const reader = new FileReader();\n",
              "      reader.onload = (e) => {\n",
              "        resolve(e.target.result);\n",
              "      };\n",
              "      reader.readAsArrayBuffer(file);\n",
              "    });\n",
              "    // Wait for the data to be ready.\n",
              "    let fileData = yield {\n",
              "      promise: fileDataPromise,\n",
              "      response: {\n",
              "        action: 'continue',\n",
              "      }\n",
              "    };\n",
              "\n",
              "    // Use a chunked sending to avoid message size limits. See b/62115660.\n",
              "    let position = 0;\n",
              "    do {\n",
              "      const length = Math.min(fileData.byteLength - position, MAX_PAYLOAD_SIZE);\n",
              "      const chunk = new Uint8Array(fileData, position, length);\n",
              "      position += length;\n",
              "\n",
              "      const base64 = btoa(String.fromCharCode.apply(null, chunk));\n",
              "      yield {\n",
              "        response: {\n",
              "          action: 'append',\n",
              "          file: file.name,\n",
              "          data: base64,\n",
              "        },\n",
              "      };\n",
              "\n",
              "      let percentDone = fileData.byteLength === 0 ?\n",
              "          100 :\n",
              "          Math.round((position / fileData.byteLength) * 100);\n",
              "      percent.textContent = `${percentDone}% done`;\n",
              "\n",
              "    } while (position < fileData.byteLength);\n",
              "  }\n",
              "\n",
              "  // All done.\n",
              "  yield {\n",
              "    response: {\n",
              "      action: 'complete',\n",
              "    }\n",
              "  };\n",
              "}\n",
              "\n",
              "scope.google = scope.google || {};\n",
              "scope.google.colab = scope.google.colab || {};\n",
              "scope.google.colab._files = {\n",
              "  _uploadFiles,\n",
              "  _uploadFilesContinue,\n",
              "};\n",
              "})(self);\n",
              "</script> "
            ]
          },
          "metadata": {}
        },
        {
          "output_type": "stream",
          "name": "stdout",
          "text": [
            "Saving train.csv to train.csv\n",
            "Upload test.csv file from your local drive\n"
          ]
        },
        {
          "output_type": "display_data",
          "data": {
            "text/plain": [
              "<IPython.core.display.HTML object>"
            ],
            "text/html": [
              "\n",
              "     <input type=\"file\" id=\"files-664d278e-1d78-4548-8c6d-af8ee18004e0\" name=\"files[]\" multiple disabled\n",
              "        style=\"border:none\" />\n",
              "     <output id=\"result-664d278e-1d78-4548-8c6d-af8ee18004e0\">\n",
              "      Upload widget is only available when the cell has been executed in the\n",
              "      current browser session. Please rerun this cell to enable.\n",
              "      </output>\n",
              "      <script>// Copyright 2017 Google LLC\n",
              "//\n",
              "// Licensed under the Apache License, Version 2.0 (the \"License\");\n",
              "// you may not use this file except in compliance with the License.\n",
              "// You may obtain a copy of the License at\n",
              "//\n",
              "//      http://www.apache.org/licenses/LICENSE-2.0\n",
              "//\n",
              "// Unless required by applicable law or agreed to in writing, software\n",
              "// distributed under the License is distributed on an \"AS IS\" BASIS,\n",
              "// WITHOUT WARRANTIES OR CONDITIONS OF ANY KIND, either express or implied.\n",
              "// See the License for the specific language governing permissions and\n",
              "// limitations under the License.\n",
              "\n",
              "/**\n",
              " * @fileoverview Helpers for google.colab Python module.\n",
              " */\n",
              "(function(scope) {\n",
              "function span(text, styleAttributes = {}) {\n",
              "  const element = document.createElement('span');\n",
              "  element.textContent = text;\n",
              "  for (const key of Object.keys(styleAttributes)) {\n",
              "    element.style[key] = styleAttributes[key];\n",
              "  }\n",
              "  return element;\n",
              "}\n",
              "\n",
              "// Max number of bytes which will be uploaded at a time.\n",
              "const MAX_PAYLOAD_SIZE = 100 * 1024;\n",
              "\n",
              "function _uploadFiles(inputId, outputId) {\n",
              "  const steps = uploadFilesStep(inputId, outputId);\n",
              "  const outputElement = document.getElementById(outputId);\n",
              "  // Cache steps on the outputElement to make it available for the next call\n",
              "  // to uploadFilesContinue from Python.\n",
              "  outputElement.steps = steps;\n",
              "\n",
              "  return _uploadFilesContinue(outputId);\n",
              "}\n",
              "\n",
              "// This is roughly an async generator (not supported in the browser yet),\n",
              "// where there are multiple asynchronous steps and the Python side is going\n",
              "// to poll for completion of each step.\n",
              "// This uses a Promise to block the python side on completion of each step,\n",
              "// then passes the result of the previous step as the input to the next step.\n",
              "function _uploadFilesContinue(outputId) {\n",
              "  const outputElement = document.getElementById(outputId);\n",
              "  const steps = outputElement.steps;\n",
              "\n",
              "  const next = steps.next(outputElement.lastPromiseValue);\n",
              "  return Promise.resolve(next.value.promise).then((value) => {\n",
              "    // Cache the last promise value to make it available to the next\n",
              "    // step of the generator.\n",
              "    outputElement.lastPromiseValue = value;\n",
              "    return next.value.response;\n",
              "  });\n",
              "}\n",
              "\n",
              "/**\n",
              " * Generator function which is called between each async step of the upload\n",
              " * process.\n",
              " * @param {string} inputId Element ID of the input file picker element.\n",
              " * @param {string} outputId Element ID of the output display.\n",
              " * @return {!Iterable<!Object>} Iterable of next steps.\n",
              " */\n",
              "function* uploadFilesStep(inputId, outputId) {\n",
              "  const inputElement = document.getElementById(inputId);\n",
              "  inputElement.disabled = false;\n",
              "\n",
              "  const outputElement = document.getElementById(outputId);\n",
              "  outputElement.innerHTML = '';\n",
              "\n",
              "  const pickedPromise = new Promise((resolve) => {\n",
              "    inputElement.addEventListener('change', (e) => {\n",
              "      resolve(e.target.files);\n",
              "    });\n",
              "  });\n",
              "\n",
              "  const cancel = document.createElement('button');\n",
              "  inputElement.parentElement.appendChild(cancel);\n",
              "  cancel.textContent = 'Cancel upload';\n",
              "  const cancelPromise = new Promise((resolve) => {\n",
              "    cancel.onclick = () => {\n",
              "      resolve(null);\n",
              "    };\n",
              "  });\n",
              "\n",
              "  // Wait for the user to pick the files.\n",
              "  const files = yield {\n",
              "    promise: Promise.race([pickedPromise, cancelPromise]),\n",
              "    response: {\n",
              "      action: 'starting',\n",
              "    }\n",
              "  };\n",
              "\n",
              "  cancel.remove();\n",
              "\n",
              "  // Disable the input element since further picks are not allowed.\n",
              "  inputElement.disabled = true;\n",
              "\n",
              "  if (!files) {\n",
              "    return {\n",
              "      response: {\n",
              "        action: 'complete',\n",
              "      }\n",
              "    };\n",
              "  }\n",
              "\n",
              "  for (const file of files) {\n",
              "    const li = document.createElement('li');\n",
              "    li.append(span(file.name, {fontWeight: 'bold'}));\n",
              "    li.append(span(\n",
              "        `(${file.type || 'n/a'}) - ${file.size} bytes, ` +\n",
              "        `last modified: ${\n",
              "            file.lastModifiedDate ? file.lastModifiedDate.toLocaleDateString() :\n",
              "                                    'n/a'} - `));\n",
              "    const percent = span('0% done');\n",
              "    li.appendChild(percent);\n",
              "\n",
              "    outputElement.appendChild(li);\n",
              "\n",
              "    const fileDataPromise = new Promise((resolve) => {\n",
              "      const reader = new FileReader();\n",
              "      reader.onload = (e) => {\n",
              "        resolve(e.target.result);\n",
              "      };\n",
              "      reader.readAsArrayBuffer(file);\n",
              "    });\n",
              "    // Wait for the data to be ready.\n",
              "    let fileData = yield {\n",
              "      promise: fileDataPromise,\n",
              "      response: {\n",
              "        action: 'continue',\n",
              "      }\n",
              "    };\n",
              "\n",
              "    // Use a chunked sending to avoid message size limits. See b/62115660.\n",
              "    let position = 0;\n",
              "    do {\n",
              "      const length = Math.min(fileData.byteLength - position, MAX_PAYLOAD_SIZE);\n",
              "      const chunk = new Uint8Array(fileData, position, length);\n",
              "      position += length;\n",
              "\n",
              "      const base64 = btoa(String.fromCharCode.apply(null, chunk));\n",
              "      yield {\n",
              "        response: {\n",
              "          action: 'append',\n",
              "          file: file.name,\n",
              "          data: base64,\n",
              "        },\n",
              "      };\n",
              "\n",
              "      let percentDone = fileData.byteLength === 0 ?\n",
              "          100 :\n",
              "          Math.round((position / fileData.byteLength) * 100);\n",
              "      percent.textContent = `${percentDone}% done`;\n",
              "\n",
              "    } while (position < fileData.byteLength);\n",
              "  }\n",
              "\n",
              "  // All done.\n",
              "  yield {\n",
              "    response: {\n",
              "      action: 'complete',\n",
              "    }\n",
              "  };\n",
              "}\n",
              "\n",
              "scope.google = scope.google || {};\n",
              "scope.google.colab = scope.google.colab || {};\n",
              "scope.google.colab._files = {\n",
              "  _uploadFiles,\n",
              "  _uploadFilesContinue,\n",
              "};\n",
              "})(self);\n",
              "</script> "
            ]
          },
          "metadata": {}
        },
        {
          "output_type": "stream",
          "name": "stdout",
          "text": [
            "Saving test.csv to test.csv\n"
          ]
        }
      ]
    },
    {
      "cell_type": "code",
      "metadata": {
        "id": "SC82ir9xuJAY",
        "colab": {
          "base_uri": "https://localhost:8080/",
          "height": 241
        },
        "outputId": "fd85f49a-c18e-4cf7-fb07-6edfee2a64f6"
      },
      "source": [
        "print(\"A glimpse into train.csv file\\n\")\n",
        "df.head()"
      ],
      "id": "SC82ir9xuJAY",
      "execution_count": null,
      "outputs": [
        {
          "output_type": "stream",
          "name": "stdout",
          "text": [
            "A glimpse into train.csv file\n",
            "\n"
          ]
        },
        {
          "output_type": "execute_result",
          "data": {
            "text/plain": [
              "                                                body subreddit\n",
              "0  The situation looks gruesome considering that ...   science\n",
              "1  Biofuels are good and all but soil degradation...   science\n",
              "2  We touched in this in my zoology lectures, and...   science\n",
              "3  Counter points:\\n\\nhttps://www.npr.org/2019/07...   science\n",
              "4  I get it, Russia's international reputation is...   science"
            ],
            "text/html": [
              "\n",
              "  <div id=\"df-7122c4d5-3c09-43d9-b4bb-6f5b4a71eb78\">\n",
              "    <div class=\"colab-df-container\">\n",
              "      <div>\n",
              "<style scoped>\n",
              "    .dataframe tbody tr th:only-of-type {\n",
              "        vertical-align: middle;\n",
              "    }\n",
              "\n",
              "    .dataframe tbody tr th {\n",
              "        vertical-align: top;\n",
              "    }\n",
              "\n",
              "    .dataframe thead th {\n",
              "        text-align: right;\n",
              "    }\n",
              "</style>\n",
              "<table border=\"1\" class=\"dataframe\">\n",
              "  <thead>\n",
              "    <tr style=\"text-align: right;\">\n",
              "      <th></th>\n",
              "      <th>body</th>\n",
              "      <th>subreddit</th>\n",
              "    </tr>\n",
              "  </thead>\n",
              "  <tbody>\n",
              "    <tr>\n",
              "      <th>0</th>\n",
              "      <td>The situation looks gruesome considering that ...</td>\n",
              "      <td>science</td>\n",
              "    </tr>\n",
              "    <tr>\n",
              "      <th>1</th>\n",
              "      <td>Biofuels are good and all but soil degradation...</td>\n",
              "      <td>science</td>\n",
              "    </tr>\n",
              "    <tr>\n",
              "      <th>2</th>\n",
              "      <td>We touched in this in my zoology lectures, and...</td>\n",
              "      <td>science</td>\n",
              "    </tr>\n",
              "    <tr>\n",
              "      <th>3</th>\n",
              "      <td>Counter points:\\n\\nhttps://www.npr.org/2019/07...</td>\n",
              "      <td>science</td>\n",
              "    </tr>\n",
              "    <tr>\n",
              "      <th>4</th>\n",
              "      <td>I get it, Russia's international reputation is...</td>\n",
              "      <td>science</td>\n",
              "    </tr>\n",
              "  </tbody>\n",
              "</table>\n",
              "</div>\n",
              "      <button class=\"colab-df-convert\" onclick=\"convertToInteractive('df-7122c4d5-3c09-43d9-b4bb-6f5b4a71eb78')\"\n",
              "              title=\"Convert this dataframe to an interactive table.\"\n",
              "              style=\"display:none;\">\n",
              "        \n",
              "  <svg xmlns=\"http://www.w3.org/2000/svg\" height=\"24px\"viewBox=\"0 0 24 24\"\n",
              "       width=\"24px\">\n",
              "    <path d=\"M0 0h24v24H0V0z\" fill=\"none\"/>\n",
              "    <path d=\"M18.56 5.44l.94 2.06.94-2.06 2.06-.94-2.06-.94-.94-2.06-.94 2.06-2.06.94zm-11 1L8.5 8.5l.94-2.06 2.06-.94-2.06-.94L8.5 2.5l-.94 2.06-2.06.94zm10 10l.94 2.06.94-2.06 2.06-.94-2.06-.94-.94-2.06-.94 2.06-2.06.94z\"/><path d=\"M17.41 7.96l-1.37-1.37c-.4-.4-.92-.59-1.43-.59-.52 0-1.04.2-1.43.59L10.3 9.45l-7.72 7.72c-.78.78-.78 2.05 0 2.83L4 21.41c.39.39.9.59 1.41.59.51 0 1.02-.2 1.41-.59l7.78-7.78 2.81-2.81c.8-.78.8-2.07 0-2.86zM5.41 20L4 18.59l7.72-7.72 1.47 1.35L5.41 20z\"/>\n",
              "  </svg>\n",
              "      </button>\n",
              "      \n",
              "  <style>\n",
              "    .colab-df-container {\n",
              "      display:flex;\n",
              "      flex-wrap:wrap;\n",
              "      gap: 12px;\n",
              "    }\n",
              "\n",
              "    .colab-df-convert {\n",
              "      background-color: #E8F0FE;\n",
              "      border: none;\n",
              "      border-radius: 50%;\n",
              "      cursor: pointer;\n",
              "      display: none;\n",
              "      fill: #1967D2;\n",
              "      height: 32px;\n",
              "      padding: 0 0 0 0;\n",
              "      width: 32px;\n",
              "    }\n",
              "\n",
              "    .colab-df-convert:hover {\n",
              "      background-color: #E2EBFA;\n",
              "      box-shadow: 0px 1px 2px rgba(60, 64, 67, 0.3), 0px 1px 3px 1px rgba(60, 64, 67, 0.15);\n",
              "      fill: #174EA6;\n",
              "    }\n",
              "\n",
              "    [theme=dark] .colab-df-convert {\n",
              "      background-color: #3B4455;\n",
              "      fill: #D2E3FC;\n",
              "    }\n",
              "\n",
              "    [theme=dark] .colab-df-convert:hover {\n",
              "      background-color: #434B5C;\n",
              "      box-shadow: 0px 1px 3px 1px rgba(0, 0, 0, 0.15);\n",
              "      filter: drop-shadow(0px 1px 2px rgba(0, 0, 0, 0.3));\n",
              "      fill: #FFFFFF;\n",
              "    }\n",
              "  </style>\n",
              "\n",
              "      <script>\n",
              "        const buttonEl =\n",
              "          document.querySelector('#df-7122c4d5-3c09-43d9-b4bb-6f5b4a71eb78 button.colab-df-convert');\n",
              "        buttonEl.style.display =\n",
              "          google.colab.kernel.accessAllowed ? 'block' : 'none';\n",
              "\n",
              "        async function convertToInteractive(key) {\n",
              "          const element = document.querySelector('#df-7122c4d5-3c09-43d9-b4bb-6f5b4a71eb78');\n",
              "          const dataTable =\n",
              "            await google.colab.kernel.invokeFunction('convertToInteractive',\n",
              "                                                     [key], {});\n",
              "          if (!dataTable) return;\n",
              "\n",
              "          const docLinkHtml = 'Like what you see? Visit the ' +\n",
              "            '<a target=\"_blank\" href=https://colab.research.google.com/notebooks/data_table.ipynb>data table notebook</a>'\n",
              "            + ' to learn more about interactive tables.';\n",
              "          element.innerHTML = '';\n",
              "          dataTable['output_type'] = 'display_data';\n",
              "          await google.colab.output.renderOutput(dataTable, element);\n",
              "          const docLink = document.createElement('div');\n",
              "          docLink.innerHTML = docLinkHtml;\n",
              "          element.appendChild(docLink);\n",
              "        }\n",
              "      </script>\n",
              "    </div>\n",
              "  </div>\n",
              "  "
            ]
          },
          "metadata": {},
          "execution_count": 5
        }
      ]
    },
    {
      "cell_type": "code",
      "metadata": {
        "id": "B_b0yuq4sQ-3",
        "colab": {
          "base_uri": "https://localhost:8080/"
        },
        "outputId": "a7baf6ee-8914-4312-c7e6-7bffd58b7a08"
      },
      "source": [
        "print(\"Unique class labels in this file are: \",df['subreddit'].unique())"
      ],
      "id": "B_b0yuq4sQ-3",
      "execution_count": null,
      "outputs": [
        {
          "output_type": "stream",
          "name": "stdout",
          "text": [
            "Unique class labels in this file are:  ['science' 'laptop' 'samsung' 'tennis' 'anime']\n"
          ]
        }
      ]
    },
    {
      "cell_type": "markdown",
      "metadata": {
        "id": "Ub0l6yswQpzq"
      },
      "source": [
        " Dividing data according to class type"
      ],
      "id": "Ub0l6yswQpzq"
    },
    {
      "cell_type": "code",
      "metadata": {
        "id": "7baBo38S_0ka",
        "colab": {
          "base_uri": "https://localhost:8080/"
        },
        "outputId": "df2b13df-24f3-4262-c75c-07fb71f79084"
      },
      "source": [
        "# Dividing data according to class type\n",
        "\n",
        "science_thread = df[0:399]\n",
        "print(science_thread)\n",
        "\n",
        "laptop_thread = df[399:799]\n",
        "print(laptop_thread)\n",
        "\n",
        "samsung_thread = df[799:1199]\n",
        "print(samsung_thread)\n",
        "\n",
        "tennis_thread = df[1199:1599]\n",
        "print(tennis_thread)\n",
        "\n",
        "anime_thread = df[1599:2000]\n",
        "print(anime_thread)"
      ],
      "id": "7baBo38S_0ka",
      "execution_count": null,
      "outputs": [
        {
          "output_type": "stream",
          "name": "stdout",
          "text": [
            "                                                  body subreddit\n",
            "0    The situation looks gruesome considering that ...   science\n",
            "1    Biofuels are good and all but soil degradation...   science\n",
            "2    We touched in this in my zoology lectures, and...   science\n",
            "3    Counter points:\\n\\nhttps://www.npr.org/2019/07...   science\n",
            "4    I get it, Russia's international reputation is...   science\n",
            "..                                                 ...       ...\n",
            "394  By late summer 2020, the resurgence of COVID-1...   science\n",
            "395  i admit to not following very closely, but i d...   science\n",
            "396  When billions of climate refugees start appear...   science\n",
            "397  That doesn't mean it was necessary to execute ...   science\n",
            "398  The real shame in all this is that research in...   science\n",
            "\n",
            "[399 rows x 2 columns]\n",
            "                                                  body subreddit\n",
            "399  Hello,\\n\\nAre you both looking for this? \\n\\n[...    laptop\n",
            "400  Hello everybody, greetings. \\n\\nI am looking f...    laptop\n",
            "401  the Dell has a Quadro, and it's most likely ha...    laptop\n",
            "402  well it would be a start to try and research h...    laptop\n",
            "403  Torn between getting either the Dell XPS 15 or...    laptop\n",
            "..                                                 ...       ...\n",
            "794  Did it make the same sound when the laptop was...    laptop\n",
            "795  So I was planning on purchasing evoo ultra sli...    laptop\n",
            "796  Sorry if this is the wrong place to put this ...    laptop\n",
            "797  I've a Lenovo S540 which is like a quarter or ...    laptop\n",
            "798  \\nSo a friend of mine is selling his hp spectr...    laptop\n",
            "\n",
            "[400 rows x 2 columns]\n",
            "                                                   body subreddit\n",
            "799   Hello everyone, I have a bit of an annoying th...   samsung\n",
            "800   My address but a name of a business located ou...   samsung\n",
            "801    \\n\\nI have the latest beta version of the Goo...   samsung\n",
            "802   Because you probably used mobile data and don'...   samsung\n",
            "803   Yea, that's a nice Gecko and a nice pic. I've ...   samsung\n",
            "...                                                 ...       ...\n",
            "1194  I'm in the market for a new phone. I just want...   samsung\n",
            "1195  Hi I got my A5 off my dad a couple weeks ago a...   samsung\n",
            "1196  Well, I had the S9 upgraded to the S20 FE 5G, ...   samsung\n",
            "1197  Out of curiosity, how are you accidentally pre...   samsung\n",
            "1198  I've had nothing but problems with my phones c...   samsung\n",
            "\n",
            "[400 rows x 2 columns]\n",
            "                                                   body subreddit\n",
            "1199  lol...Milos is still Canada's best male player...    tennis\n",
            "1200  Hey everyone, looking for a little help please...    tennis\n",
            "1201  Q. Please describe the feeling.\\n\\nHsieh Su-we...    tennis\n",
            "1202  At the end of the day, getting to practice on ...    tennis\n",
            "1203  Couple of interesting facts:\\n\\nSinner is now ...    tennis\n",
            "...                                                 ...       ...\n",
            "1594  Tsitsipas - hate his attitude, he's so full of...    tennis\n",
            "1595  Look at the stringing/stringing machines categ...    tennis\n",
            "1596  If anyone can explain how my logic is flawed h...    tennis\n",
            "1597  It's very easy to bet against him this yr tbh....    tennis\n",
            "1598  Her matches are emotional rollercoasters for t...    tennis\n",
            "\n",
            "[400 rows x 2 columns]\n",
            "                                                   body subreddit\n",
            "1599  * Hellsing Ultimate *Alucard, one of the prota...     anime\n",
            "1600  I always think films are a great way to start ...     anime\n",
            "1601  I've recently been getting into anime a bit by...     anime\n",
            "1602  Seems Satoko just doesn't like that kind of li...     anime\n",
            "1603  If you only care about the manga content then ...     anime\n",
            "...                                                 ...       ...\n",
            "1994  Emma has a future in mind of her and Noir runn...     anime\n",
            "1995  Hi Anifreak_X, it seems like you might be look...     anime\n",
            "1996  This guy will need a liver transfer if this ke...     anime\n",
            "1997  I just started watching the anime Tonikawa and...     anime\n",
            "1998  > And while asking, may as well ask what some ...     anime\n",
            "\n",
            "[400 rows x 2 columns]\n"
          ]
        }
      ]
    },
    {
      "cell_type": "code",
      "metadata": {
        "id": "aUGCNY_MxFui"
      },
      "source": [
        "# Dividing the data into body and its classification type\n",
        "\n",
        "#print(df)\n",
        "Comment = df['body']\n",
        "Subreddit = df['subreddit']\n",
        "#print(Comment)\n",
        "#print(Subreddit)\n",
        "\n",
        "test_id = df_test['id']\n",
        "test_Comment = df_test['body']\n",
        "#print(test_id)\n",
        "#print(test_Comment)"
      ],
      "id": "aUGCNY_MxFui",
      "execution_count": null,
      "outputs": []
    },
    {
      "cell_type": "code",
      "source": [
        "!pip install --upgrade scikit-learn\n"
      ],
      "metadata": {
        "colab": {
          "base_uri": "https://localhost:8080/"
        },
        "id": "930yg_qJ1sP4",
        "outputId": "12e5612a-4d57-427f-d10c-7156442d8522"
      },
      "id": "930yg_qJ1sP4",
      "execution_count": null,
      "outputs": [
        {
          "output_type": "stream",
          "name": "stdout",
          "text": [
            "Looking in indexes: https://pypi.org/simple, https://us-python.pkg.dev/colab-wheels/public/simple/\n",
            "Requirement already satisfied: scikit-learn in /usr/local/lib/python3.9/dist-packages (1.2.2)\n",
            "Requirement already satisfied: threadpoolctl>=2.0.0 in /usr/local/lib/python3.9/dist-packages (from scikit-learn) (3.1.0)\n",
            "Requirement already satisfied: joblib>=1.1.1 in /usr/local/lib/python3.9/dist-packages (from scikit-learn) (1.1.1)\n",
            "Requirement already satisfied: numpy>=1.17.3 in /usr/local/lib/python3.9/dist-packages (from scikit-learn) (1.22.4)\n",
            "Requirement already satisfied: scipy>=1.3.2 in /usr/local/lib/python3.9/dist-packages (from scikit-learn) (1.10.1)\n"
          ]
        }
      ]
    },
    {
      "cell_type": "markdown",
      "metadata": {
        "id": "tg7E-I0aQuPH"
      },
      "source": [
        "Preprocessing and Characteristics of the Data"
      ],
      "id": "tg7E-I0aQuPH"
    },
    {
      "cell_type": "code",
      "metadata": {
        "id": "RYdfEFhKxIAO",
        "colab": {
          "base_uri": "https://localhost:8080/",
          "height": 576
        },
        "outputId": "bf74b90c-d636-4639-f19a-a0a1d41ba352"
      },
      "source": [
        "from sklearn.feature_extraction.text import CountVectorizer\n",
        "from sklearn.feature_extraction import text\n",
        "\n",
        "import numpy as np\n",
        "import matplotlib.pyplot as plt\n",
        "\n",
        "#Don't use the STOP Words, as there are several problems in it. {Look at the 6.2 Feature extraction of the scikit learn}\n",
        "stopage_words = text.ENGLISH_STOP_WORDS\n",
        "\n",
        "#binary=True is used for discrete probablistic models tht mode binary events rather than integer counts\n",
        "#max_features=3000 will be considered, it will keep the top 3000 highest frequency words\n",
        "#In stop_words = stopage_words for removal.\n",
        "vectorizer = CountVectorizer(stop_words = None, max_features = None)           \n",
        "print(vectorizer)\n",
        "vectors_train = vectorizer.fit_transform(Comment)\n",
        "features = vectorizer.get_feature_names_out()\n",
        "print(\"Features: \\n\",features)                          # Feature items list is printed\n",
        "print(\"\\nLength of features = \",len(features))          #Length of the feature list\n",
        "#print(vectors_train)\n",
        "#print(vectors_train.todense())                         #One shot representation\n",
        "\n",
        "print(\"\\n\\n\")\n",
        "\n",
        "plt.figure(figsize=(5,4))\n",
        "fig = df.groupby('subreddit').body.count().plot.bar() #Bar graph stored in the object\n",
        "for b in fig.patches:\n",
        "  plt.text(b.get_x()+b.get_width()/5,b.get_height(),int(b.get_height()),va='bottom')\n",
        "plt.show()\n"
      ],
      "id": "RYdfEFhKxIAO",
      "execution_count": null,
      "outputs": [
        {
          "output_type": "stream",
          "name": "stdout",
          "text": [
            "CountVectorizer()\n",
            "Features: \n",
            " ['00' '000' '000inr' ... 'zverev' 'zvonareva' 'zymosan']\n",
            "\n",
            "Length of features =  15365\n",
            "\n",
            "\n",
            "\n"
          ]
        },
        {
          "output_type": "display_data",
          "data": {
            "text/plain": [
              "<Figure size 500x400 with 1 Axes>"
            ],
            "image/png": "[encoded data removed]"
          },
          "metadata": {}
        }
      ]
    },
    {
      "cell_type": "markdown",
      "metadata": {
        "id": "x4Bdk118QxoB"
      },
      "source": [
        "# Bernoulli Naive Bayes\n"
      ],
      "id": "x4Bdk118QxoB"
    },
    {
      "cell_type": "markdown",
      "source": [],
      "metadata": {
        "id": "XSK8ybO81xCE"
      },
      "id": "XSK8ybO81xCE"
    },
    {
      "cell_type": "markdown",
      "metadata": {
        "id": "kd7sE2ImR7iZ"
      },
      "source": [
        " Class of the Bernoulli Naive Bayes\n",
        " - Need to run to perform the Naive Bayes for the training set and for the k-fold.\n",
        " "
      ],
      "id": "kd7sE2ImR7iZ"
    },
    {
      "cell_type": "code",
      "metadata": {
        "id": "eCPILL4-VDEx"
      },
      "source": [
        "## Class of the Bernoulli Naive Bayes from Scratch ##\n",
        "\n",
        "import numpy as np\n",
        "\n",
        "class BernoulliNaive:\n",
        "  def __init__(self, Comment, science_thread, laptop_thread, samsung_thread, tennis_thread, anime_thread):\n",
        "    self.Comment = Comment\n",
        "    self.science_thread = science_thread                 \n",
        "    self.laptop_thread = laptop_thread\n",
        "    self.samsung_thread = samsung_thread\n",
        "    self.tennis_thread = tennis_thread\n",
        "    self.anime_thread = anime_thread\n",
        "\n",
        "  #Calculating the theta vector according the bit matrix for a particular class#\n",
        "  def theta(self, X_science, X_laptop, X_samsung, X_tennis, X_anime):\n",
        "    class_count = np.array([len(self.science_thread), len(self.laptop_thread), len(self.samsung_thread), len(self.tennis_thread), len(self.anime_thread)])\n",
        "    theta_k = class_count/len(self.Comment)\n",
        "    #Laplace Smoothing also applied here\n",
        "    theta_jk = np.array((np.sum(X_science, axis=0)+1)/(2+class_count[0]))\n",
        "    theta_jk = np.vstack([theta_jk, (np.sum(X_laptop, axis=0)+1)/(2+class_count[1]), (np.sum(X_samsung, axis=0)+1)/(2+class_count[2]), (np.sum(X_tennis, axis=0)+1)/(2+class_count[3]), (np.sum(X_anime, axis=0)+1)/(2+class_count[4])])\n",
        "    return theta_k, theta_jk\n",
        "\n",
        "  # Class Prob. Function (All Deltas) #\n",
        "  #This X will be the bit vector for each traning ex. \n",
        "  def ClassProbability(self, X, theta_k, theta_jk):\n",
        "    delta = []\n",
        "    for i in range(5):        #For each class \n",
        "      prob = 1\n",
        "      for j in range(3000):\n",
        "        prob = prob * (pow(theta_jk[i, j],X[0,j]) * pow((1-theta_jk[i, j]),(1-X[0,j])))\n",
        "      \n",
        "      prob = theta_k[i] * prob\n",
        "      delta.append(prob)      #Appending all the probability values\n",
        "    return np.log(delta)      #Returing delta by calculating the log of the probabilites. \n",
        "\n",
        "  # Predict function #\n",
        "  def predict(self, delta):\n",
        "    classes = ['science', 'laptop', 'samsung', 'tennis', 'anime']\n",
        "    a = max(delta)                    #Selecting the maximum delta value \n",
        "    for i in range(len(delta)):\n",
        "      if a == delta[i]:\n",
        "        class_no = i                 #Selecting the index of the best probability\n",
        "\n",
        "    if class_no == 0:\n",
        "      return classes[0]\n",
        "    elif class_no == 1:\n",
        "      return classes[1]\n",
        "    elif class_no == 2:\n",
        "      return classes[2]\n",
        "    elif class_no == 3:\n",
        "      return classes[3]\n",
        "    elif class_no == 4:\n",
        "      return classes[4]  \n",
        "    else:\n",
        "      return None"
      ],
      "id": "eCPILL4-VDEx",
      "execution_count": null,
      "outputs": []
    },
    {
      "cell_type": "markdown",
      "metadata": {
        "id": "XPxwhBsTR_E1"
      },
      "source": [
        "Main File for the Bernoulli Naive Bayes\n",
        "- It will create an object of Naive Bayes class and then test the algorithm on whole training dataset."
      ],
      "id": "XPxwhBsTR_E1"
    },
    {
      "cell_type": "code",
      "metadata": {
        "id": "otWJSyX3hk1X",
        "colab": {
          "base_uri": "https://localhost:8080/"
        },
        "outputId": "c76ee882-3f0e-4cae-df71-9307b18154e0"
      },
      "source": [
        "## Main File for the Bernoulli Naive Bayes [For whole training Set] ##\n",
        "\n",
        "import time\n",
        "from sklearn.feature_extraction.text import CountVectorizer\n",
        "\n",
        "time_b = time.time()\n",
        "#Vectorizing the data particularly for Bernoulli Naive Bayes\n",
        "vectorizer = CountVectorizer(max_features = 3000, binary = True)\n",
        "X = vectorizer.fit_transform(Comment)\n",
        "X_all_class = X.todense()  \n",
        "\n",
        "#Dividing Bit Vectors according to class type \n",
        "X_science = X_all_class[0:399]\n",
        "X_laptop = X_all_class[399:799]\n",
        "X_samsung = X_all_class[799:1199]\n",
        "X_tennis = X_all_class[1199:1599]\n",
        "X_anime = X_all_class[1599:2000]\n",
        "\n",
        "#All comments according to the class type \n",
        "science_thread = df[0:399]\n",
        "laptop_thread = df[399:799]\n",
        "samsung_thread = df[799:1199]\n",
        "tennis_thread = df[1199:1599]\n",
        "anime_thread = df[1599:2000]\n",
        "\n",
        "#Making the object of the class.\n",
        "'''\n",
        "Here input to the class will be the Comment and subreddit comments used for the training so 6 in total dataframes,\n",
        "one will be whole training data set and 5 other each class dataframes.\n",
        "'''\n",
        "bnb = BernoulliNaive(Comment, science_thread, laptop_thread, samsung_thread, tennis_thread, anime_thread)\n",
        "\n",
        "# Calculating the theta vector #\n",
        "'''\n",
        "- Just the bit vectorized matrix of the all the training samples of a particular class is \n",
        " needed to be entered here, whether k-fold or not. \n",
        "- This theta's are stored using the training data and later will be used for probability calculations for the test data.\n",
        "- Note: Don't use the theta_jk and theta_k here for return because it may change the global variable.\n",
        "'''\n",
        "thetak, thetajk = bnb.theta(X_science, X_laptop, X_samsung, X_tennis, X_anime)\n",
        "\n",
        "# Testing Predict for the training data set #\n",
        "'''\n",
        "Input will be to add the vectroized x of the test data that is needed to be tested, and along with the theta vectors that are obtained.\n",
        "'''\n",
        "Predict = []\n",
        "for i in range(len(Comment)):\n",
        "  DEL = bnb.ClassProbability(X_all_class[i], thetak, thetajk)\n",
        "  y = bnb.predict(DEL)\n",
        "  Predict.append(y)\n",
        "\n",
        "print(Predict)\n",
        "\n",
        "# Calculate Accurracy of Naive Bayes on the Training data set #\n",
        "accuracy = (Predict == Subreddit).mean()\n",
        "print(accuracy)\n",
        "time_e = time.time()\n",
        "print('Time elapsed:',time_e-time_b,'s')"
      ],
      "id": "otWJSyX3hk1X",
      "execution_count": null,
      "outputs": [
        {
          "output_type": "stream",
          "name": "stderr",
          "text": [
            "<ipython-input-10-c5278142d34c>:34: RuntimeWarning: divide by zero encountered in log\n",
            "  return np.log(delta)      #Returing delta by calculating the log of the probabilites.\n"
          ]
        },
        {
          "output_type": "stream",
          "name": "stdout",
          "text": [
            "['science', 'science', 'science', 'science', 'science', 'science', 'science', 'science', 'samsung', 'science', 'science', 'science', 'science', 'tennis', 'science', 'science', 'science', 'tennis', 'science', 'science', 'science', 'science', 'science', 'science', 'science', 'science', 'science', 'science', 'science', 'science', 'science', 'science', 'science', 'science', 'science', 'tennis', 'tennis', 'science', 'science', 'science', 'science', 'science', 'science', 'science', 'tennis', 'science', 'science', 'science', 'science', 'science', 'science', 'science', 'science', 'tennis', 'samsung', 'science', 'science', 'science', 'science', 'science', 'science', 'science', 'science', 'science', 'science', 'tennis', 'science', 'science', 'science', 'science', 'science', 'tennis', 'science', 'science', 'science', 'science', 'samsung', 'science', 'science', 'science', 'science', 'tennis', 'science', 'science', 'science', 'samsung', 'science', 'science', 'science', 'science', 'science', 'tennis', 'science', 'science', 'science', 'science', 'science', 'science', 'tennis', 'science', 'science', 'science', 'science', 'science', 'science', 'science', 'science', 'science', 'science', 'science', 'tennis', 'science', 'tennis', 'science', 'science', 'science', 'science', 'science', 'science', 'tennis', 'science', 'science', 'science', 'samsung', 'samsung', 'tennis', 'science', 'science', 'science', 'science', 'tennis', 'science', 'science', 'science', 'science', 'science', 'science', 'science', 'tennis', 'science', 'tennis', 'science', 'science', 'samsung', 'science', 'science', 'science', 'science', 'science', 'samsung', 'tennis', 'science', 'science', 'science', 'tennis', 'science', 'science', 'science', 'science', 'science', 'science', 'science', 'tennis', 'science', 'science', 'science', 'science', 'science', 'science', 'science', 'science', 'science', 'science', 'science', 'science', 'science', 'science', 'science', 'samsung', 'science', 'science', 'science', 'science', 'samsung', 'science', 'science', 'tennis', 'science', 'science', 'science', 'tennis', 'science', 'science', 'science', 'science', 'science', 'science', 'tennis', 'science', 'science', 'samsung', 'science', 'science', 'samsung', 'science', 'science', 'samsung', 'tennis', 'science', 'science', 'samsung', 'science', 'anime', 'science', 'science', 'science', 'science', 'science', 'science', 'science', 'samsung', 'science', 'science', 'tennis', 'science', 'science', 'science', 'samsung', 'tennis', 'science', 'science', 'science', 'science', 'science', 'science', 'science', 'science', 'science', 'science', 'science', 'science', 'science', 'science', 'science', 'science', 'science', 'science', 'science', 'science', 'science', 'samsung', 'science', 'tennis', 'science', 'science', 'science', 'science', 'science', 'science', 'science', 'science', 'science', 'science', 'science', 'science', 'science', 'science', 'science', 'tennis', 'science', 'science', 'science', 'science', 'tennis', 'science', 'tennis', 'science', 'science', 'science', 'tennis', 'science', 'science', 'science', 'science', 'science', 'tennis', 'tennis', 'science', 'science', 'science', 'science', 'science', 'science', 'samsung', 'science', 'science', 'science', 'science', 'science', 'science', 'tennis', 'science', 'science', 'science', 'science', 'tennis', 'science', 'science', 'tennis', 'science', 'science', 'science', 'science', 'science', 'tennis', 'science', 'science', 'science', 'science', 'science', 'science', 'science', 'science', 'science', 'tennis', 'science', 'tennis', 'science', 'science', 'science', 'science', 'science', 'science', 'science', 'tennis', 'tennis', 'science', 'science', 'science', 'science', 'science', 'science', 'science', 'science', 'tennis', 'science', 'science', 'science', 'tennis', 'science', 'science', 'science', 'science', 'science', 'science', 'science', 'science', 'science', 'science', 'science', 'science', 'science', 'tennis', 'science', 'science', 'science', 'tennis', 'science', 'science', 'tennis', 'tennis', 'science', 'science', 'science', 'science', 'science', 'science', 'science', 'science', 'science', 'tennis', 'science', 'science', 'science', 'science', 'science', 'science', 'science', 'science', 'science', 'science', 'science', 'science', 'science', 'science', 'tennis', 'tennis', 'science', 'science', 'laptop', 'laptop', 'laptop', 'laptop', 'laptop', 'laptop', 'laptop', 'laptop', 'samsung', 'laptop', 'laptop', 'laptop', 'laptop', 'laptop', 'laptop', 'laptop', 'laptop', 'samsung', 'laptop', 'laptop', 'laptop', 'laptop', 'laptop', 'laptop', 'laptop', 'laptop', 'laptop', 'laptop', 'laptop', 'laptop', 'laptop', 'laptop', 'laptop', 'laptop', 'laptop', 'laptop', 'laptop', 'laptop', 'laptop', 'laptop', 'laptop', 'laptop', 'laptop', 'laptop', 'laptop', 'laptop', 'laptop', 'laptop', 'laptop', 'laptop', 'laptop', 'laptop', 'laptop', 'laptop', 'laptop', 'laptop', 'laptop', 'laptop', 'laptop', 'laptop', 'laptop', 'laptop', 'laptop', 'laptop', 'laptop', 'laptop', 'laptop', 'laptop', 'laptop', 'laptop', 'laptop', 'laptop', 'laptop', 'laptop', 'laptop', 'laptop', 'laptop', 'laptop', 'laptop', 'samsung', 'laptop', 'laptop', 'samsung', 'laptop', 'laptop', 'laptop', 'laptop', 'laptop', 'laptop', 'laptop', 'samsung', 'laptop', 'laptop', 'laptop', 'laptop', 'laptop', 'samsung', 'laptop', 'laptop', 'laptop', 'laptop', 'laptop', 'laptop', 'laptop', 'laptop', 'laptop', 'laptop', 'laptop', 'laptop', 'laptop', 'laptop', 'laptop', 'laptop', 'laptop', 'laptop', 'laptop', 'laptop', 'laptop', 'laptop', 'laptop', 'laptop', 'laptop', 'laptop', 'laptop', 'laptop', 'samsung', 'laptop', 'samsung', 'laptop', 'samsung', 'samsung', 'laptop', 'laptop', 'laptop', 'laptop', 'laptop', 'laptop', 'laptop', 'laptop', 'laptop', 'laptop', 'laptop', 'laptop', 'laptop', 'laptop', 'laptop', 'laptop', 'laptop', 'laptop', 'laptop', 'laptop', 'anime', 'laptop', 'laptop', 'laptop', 'laptop', 'laptop', 'laptop', 'laptop', 'laptop', 'laptop', 'samsung', 'laptop', 'laptop', 'laptop', 'laptop', 'laptop', 'laptop', 'laptop', 'laptop', 'samsung', 'laptop', 'laptop', 'laptop', 'laptop', 'laptop', 'laptop', 'laptop', 'laptop', 'laptop', 'laptop', 'laptop', 'laptop', 'laptop', 'laptop', 'laptop', 'laptop', 'laptop', 'laptop', 'laptop', 'laptop', 'laptop', 'laptop', 'samsung', 'laptop', 'laptop', 'laptop', 'laptop', 'laptop', 'samsung', 'laptop', 'samsung', 'laptop', 'laptop', 'laptop', 'laptop', 'laptop', 'laptop', 'laptop', 'laptop', 'laptop', 'laptop', 'laptop', 'laptop', 'laptop', 'laptop', 'laptop', 'laptop', 'samsung', 'laptop', 'laptop', 'laptop', 'laptop', 'laptop', 'laptop', 'laptop', 'laptop', 'laptop', 'laptop', 'laptop', 'laptop', 'laptop', 'laptop', 'laptop', 'laptop', 'laptop', 'laptop', 'laptop', 'laptop', 'laptop', 'laptop', 'laptop', 'laptop', 'laptop', 'samsung', 'laptop', 'laptop', 'laptop', 'laptop', 'laptop', 'laptop', 'laptop', 'laptop', 'laptop', 'laptop', 'laptop', 'laptop', 'laptop', 'laptop', 'laptop', 'laptop', 'laptop', 'laptop', 'laptop', 'laptop', 'laptop', 'laptop', 'laptop', 'laptop', 'laptop', 'laptop', 'laptop', 'laptop', 'laptop', 'laptop', 'laptop', 'laptop', 'laptop', 'laptop', 'laptop', 'laptop', 'laptop', 'laptop', 'laptop', 'samsung', 'laptop', 'laptop', 'laptop', 'laptop', 'laptop', 'laptop', 'laptop', 'laptop', 'samsung', 'laptop', 'laptop', 'laptop', 'laptop', 'laptop', 'laptop', 'laptop', 'laptop', 'laptop', 'laptop', 'laptop', 'laptop', 'laptop', 'laptop', 'laptop', 'laptop', 'laptop', 'laptop', 'laptop', 'laptop', 'laptop', 'laptop', 'laptop', 'laptop', 'laptop', 'laptop', 'laptop', 'laptop', 'laptop', 'laptop', 'laptop', 'laptop', 'laptop', 'laptop', 'laptop', 'laptop', 'laptop', 'laptop', 'laptop', 'laptop', 'samsung', 'laptop', 'laptop', 'laptop', 'laptop', 'laptop', 'laptop', 'laptop', 'laptop', 'laptop', 'laptop', 'laptop', 'laptop', 'laptop', 'laptop', 'laptop', 'laptop', 'laptop', 'laptop', 'laptop', 'laptop', 'laptop', 'laptop', 'laptop', 'laptop', 'laptop', 'laptop', 'laptop', 'laptop', 'laptop', 'laptop', 'laptop', 'laptop', 'laptop', 'laptop', 'samsung', 'laptop', 'laptop', 'laptop', 'laptop', 'laptop', 'laptop', 'laptop', 'laptop', 'laptop', 'laptop', 'laptop', 'laptop', 'laptop', 'laptop', 'laptop', 'laptop', 'laptop', 'laptop', 'laptop', 'laptop', 'laptop', 'laptop', 'laptop', 'laptop', 'laptop', 'laptop', 'laptop', 'samsung', 'laptop', 'laptop', 'samsung', 'samsung', 'samsung', 'samsung', 'samsung', 'samsung', 'samsung', 'samsung', 'samsung', 'samsung', 'samsung', 'samsung', 'samsung', 'samsung', 'samsung', 'samsung', 'samsung', 'samsung', 'samsung', 'samsung', 'samsung', 'samsung', 'samsung', 'samsung', 'samsung', 'samsung', 'samsung', 'samsung', 'samsung', 'samsung', 'samsung', 'samsung', 'samsung', 'samsung', 'samsung', 'samsung', 'samsung', 'samsung', 'samsung', 'samsung', 'samsung', 'samsung', 'samsung', 'samsung', 'samsung', 'samsung', 'samsung', 'samsung', 'samsung', 'samsung', 'samsung', 'samsung', 'samsung', 'samsung', 'samsung', 'samsung', 'samsung', 'samsung', 'samsung', 'samsung', 'samsung', 'samsung', 'samsung', 'samsung', 'samsung', 'samsung', 'samsung', 'samsung', 'samsung', 'samsung', 'samsung', 'samsung', 'samsung', 'samsung', 'samsung', 'samsung', 'samsung', 'samsung', 'samsung', 'samsung', 'samsung', 'samsung', 'samsung', 'samsung', 'samsung', 'samsung', 'samsung', 'samsung', 'samsung', 'samsung', 'samsung', 'samsung', 'samsung', 'samsung', 'samsung', 'samsung', 'samsung', 'samsung', 'samsung', 'samsung', 'samsung', 'samsung', 'samsung', 'samsung', 'samsung', 'samsung', 'samsung', 'samsung', 'samsung', 'samsung', 'samsung', 'samsung', 'samsung', 'samsung', 'samsung', 'samsung', 'samsung', 'samsung', 'samsung', 'samsung', 'samsung', 'samsung', 'samsung', 'samsung', 'samsung', 'samsung', 'samsung', 'samsung', 'samsung', 'samsung', 'samsung', 'samsung', 'samsung', 'samsung', 'samsung', 'samsung', 'samsung', 'samsung', 'samsung', 'samsung', 'samsung', 'samsung', 'samsung', 'samsung', 'samsung', 'samsung', 'samsung', 'samsung', 'samsung', 'samsung', 'samsung', 'samsung', 'samsung', 'samsung', 'samsung', 'samsung', 'samsung', 'samsung', 'samsung', 'samsung', 'samsung', 'samsung', 'samsung', 'samsung', 'samsung', 'samsung', 'samsung', 'samsung', 'anime', 'samsung', 'samsung', 'samsung', 'samsung', 'samsung', 'samsung', 'samsung', 'samsung', 'samsung', 'samsung', 'samsung', 'samsung', 'samsung', 'samsung', 'samsung', 'samsung', 'samsung', 'samsung', 'samsung', 'samsung', 'samsung', 'samsung', 'samsung', 'samsung', 'samsung', 'samsung', 'samsung', 'samsung', 'samsung', 'samsung', 'samsung', 'samsung', 'samsung', 'samsung', 'samsung', 'samsung', 'samsung', 'samsung', 'samsung', 'samsung', 'samsung', 'samsung', 'samsung', 'samsung', 'samsung', 'samsung', 'samsung', 'samsung', 'samsung', 'samsung', 'samsung', 'samsung', 'samsung', 'samsung', 'samsung', 'samsung', 'samsung', 'samsung', 'samsung', 'samsung', 'samsung', 'samsung', 'samsung', 'samsung', 'samsung', 'samsung', 'samsung', 'samsung', 'samsung', 'samsung', 'samsung', 'samsung', 'samsung', 'samsung', 'samsung', 'samsung', 'samsung', 'samsung', 'samsung', 'samsung', 'samsung', 'samsung', 'samsung', 'samsung', 'samsung', 'samsung', 'samsung', 'samsung', 'samsung', 'samsung', 'samsung', 'samsung', 'samsung', 'samsung', 'samsung', 'samsung', 'samsung', 'samsung', 'samsung', 'samsung', 'samsung', 'samsung', 'samsung', 'samsung', 'anime', 'samsung', 'samsung', 'samsung', 'samsung', 'samsung', 'samsung', 'samsung', 'samsung', 'samsung', 'samsung', 'samsung', 'samsung', 'samsung', 'samsung', 'samsung', 'samsung', 'samsung', 'samsung', 'samsung', 'samsung', 'samsung', 'samsung', 'samsung', 'samsung', 'samsung', 'samsung', 'samsung', 'samsung', 'samsung', 'samsung', 'samsung', 'samsung', 'samsung', 'samsung', 'samsung', 'samsung', 'samsung', 'samsung', 'samsung', 'samsung', 'samsung', 'samsung', 'samsung', 'samsung', 'samsung', 'samsung', 'samsung', 'samsung', 'samsung', 'samsung', 'samsung', 'samsung', 'samsung', 'samsung', 'samsung', 'samsung', 'samsung', 'samsung', 'samsung', 'samsung', 'samsung', 'samsung', 'samsung', 'samsung', 'samsung', 'samsung', 'samsung', 'samsung', 'samsung', 'samsung', 'samsung', 'samsung', 'samsung', 'samsung', 'samsung', 'samsung', 'samsung', 'samsung', 'samsung', 'samsung', 'samsung', 'samsung', 'samsung', 'samsung', 'samsung', 'samsung', 'samsung', 'samsung', 'samsung', 'samsung', 'samsung', 'samsung', 'samsung', 'samsung', 'samsung', 'samsung', 'samsung', 'samsung', 'samsung', 'samsung', 'samsung', 'samsung', 'samsung', 'samsung', 'samsung', 'samsung', 'samsung', 'samsung', 'samsung', 'samsung', 'samsung', 'samsung', 'samsung', 'samsung', 'samsung', 'samsung', 'samsung', 'samsung', 'samsung', 'samsung', 'samsung', 'samsung', 'samsung', 'samsung', 'samsung', 'samsung', 'tennis', 'laptop', 'tennis', 'tennis', 'tennis', 'tennis', 'tennis', 'tennis', 'tennis', 'tennis', 'tennis', 'tennis', 'tennis', 'tennis', 'tennis', 'tennis', 'tennis', 'tennis', 'tennis', 'tennis', 'tennis', 'tennis', 'tennis', 'tennis', 'tennis', 'tennis', 'tennis', 'tennis', 'tennis', 'tennis', 'tennis', 'tennis', 'tennis', 'tennis', 'tennis', 'tennis', 'tennis', 'tennis', 'tennis', 'tennis', 'tennis', 'tennis', 'tennis', 'tennis', 'tennis', 'tennis', 'tennis', 'tennis', 'tennis', 'tennis', 'tennis', 'tennis', 'tennis', 'tennis', 'tennis', 'tennis', 'tennis', 'tennis', 'tennis', 'tennis', 'tennis', 'tennis', 'tennis', 'tennis', 'tennis', 'tennis', 'tennis', 'tennis', 'tennis', 'tennis', 'tennis', 'tennis', 'tennis', 'tennis', 'tennis', 'tennis', 'tennis', 'tennis', 'tennis', 'tennis', 'tennis', 'tennis', 'tennis', 'tennis', 'tennis', 'tennis', 'tennis', 'tennis', 'tennis', 'tennis', 'tennis', 'tennis', 'tennis', 'tennis', 'tennis', 'tennis', 'tennis', 'tennis', 'tennis', 'tennis', 'tennis', 'tennis', 'tennis', 'tennis', 'tennis', 'tennis', 'tennis', 'tennis', 'tennis', 'tennis', 'tennis', 'tennis', 'tennis', 'tennis', 'tennis', 'tennis', 'tennis', 'tennis', 'tennis', 'tennis', 'tennis', 'tennis', 'tennis', 'tennis', 'tennis', 'tennis', 'tennis', 'tennis', 'tennis', 'tennis', 'tennis', 'tennis', 'tennis', 'tennis', 'tennis', 'tennis', 'tennis', 'tennis', 'tennis', 'tennis', 'tennis', 'tennis', 'tennis', 'tennis', 'tennis', 'tennis', 'tennis', 'tennis', 'tennis', 'tennis', 'tennis', 'tennis', 'tennis', 'tennis', 'tennis', 'tennis', 'tennis', 'tennis', 'tennis', 'tennis', 'tennis', 'tennis', 'tennis', 'tennis', 'tennis', 'tennis', 'tennis', 'tennis', 'tennis', 'tennis', 'tennis', 'tennis', 'tennis', 'tennis', 'tennis', 'tennis', 'tennis', 'tennis', 'tennis', 'tennis', 'tennis', 'tennis', 'samsung', 'tennis', 'tennis', 'tennis', 'tennis', 'tennis', 'tennis', 'tennis', 'laptop', 'tennis', 'tennis', 'tennis', 'tennis', 'tennis', 'tennis', 'tennis', 'tennis', 'tennis', 'tennis', 'tennis', 'tennis', 'tennis', 'tennis', 'tennis', 'samsung', 'tennis', 'tennis', 'tennis', 'tennis', 'tennis', 'tennis', 'tennis', 'tennis', 'tennis', 'tennis', 'tennis', 'tennis', 'tennis', 'tennis', 'tennis', 'tennis', 'tennis', 'tennis', 'tennis', 'tennis', 'tennis', 'tennis', 'tennis', 'tennis', 'samsung', 'tennis', 'tennis', 'tennis', 'tennis', 'tennis', 'tennis', 'tennis', 'tennis', 'tennis', 'tennis', 'tennis', 'tennis', 'tennis', 'tennis', 'tennis', 'tennis', 'tennis', 'tennis', 'tennis', 'tennis', 'tennis', 'tennis', 'tennis', 'tennis', 'tennis', 'tennis', 'tennis', 'tennis', 'tennis', 'tennis', 'tennis', 'tennis', 'tennis', 'tennis', 'tennis', 'tennis', 'tennis', 'tennis', 'tennis', 'tennis', 'tennis', 'tennis', 'tennis', 'tennis', 'tennis', 'tennis', 'tennis', 'tennis', 'tennis', 'tennis', 'tennis', 'tennis', 'tennis', 'tennis', 'tennis', 'tennis', 'tennis', 'tennis', 'tennis', 'tennis', 'tennis', 'samsung', 'tennis', 'tennis', 'tennis', 'tennis', 'tennis', 'tennis', 'tennis', 'tennis', 'tennis', 'tennis', 'tennis', 'tennis', 'tennis', 'tennis', 'tennis', 'tennis', 'tennis', 'tennis', 'tennis', 'tennis', 'tennis', 'tennis', 'tennis', 'tennis', 'tennis', 'tennis', 'tennis', 'science', 'tennis', 'tennis', 'tennis', 'tennis', 'tennis', 'tennis', 'tennis', 'tennis', 'tennis', 'tennis', 'tennis', 'tennis', 'tennis', 'tennis', 'tennis', 'tennis', 'tennis', 'tennis', 'tennis', 'tennis', 'tennis', 'tennis', 'tennis', 'tennis', 'tennis', 'tennis', 'tennis', 'tennis', 'tennis', 'tennis', 'tennis', 'tennis', 'tennis', 'tennis', 'tennis', 'tennis', 'tennis', 'tennis', 'tennis', 'tennis', 'tennis', 'tennis', 'tennis', 'tennis', 'tennis', 'tennis', 'tennis', 'tennis', 'tennis', 'tennis', 'tennis', 'tennis', 'tennis', 'tennis', 'tennis', 'tennis', 'tennis', 'tennis', 'tennis', 'tennis', 'tennis', 'tennis', 'tennis', 'tennis', 'tennis', 'tennis', 'tennis', 'samsung', 'tennis', 'tennis', 'tennis', 'tennis', 'tennis', 'tennis', 'tennis', 'tennis', 'tennis', 'tennis', 'anime', 'anime', 'anime', 'anime', 'anime', 'tennis', 'anime', 'tennis', 'anime', 'anime', 'anime', 'anime', 'anime', 'anime', 'anime', 'anime', 'anime', 'anime', 'tennis', 'anime', 'tennis', 'tennis', 'anime', 'tennis', 'anime', 'anime', 'anime', 'anime', 'anime', 'samsung', 'tennis', 'anime', 'tennis', 'anime', 'anime', 'anime', 'tennis', 'anime', 'anime', 'anime', 'anime', 'anime', 'tennis', 'samsung', 'anime', 'anime', 'anime', 'anime', 'anime', 'tennis', 'anime', 'anime', 'anime', 'anime', 'anime', 'tennis', 'anime', 'anime', 'anime', 'anime', 'anime', 'anime', 'anime', 'anime', 'anime', 'anime', 'anime', 'anime', 'anime', 'anime', 'tennis', 'anime', 'anime', 'tennis', 'anime', 'anime', 'anime', 'anime', 'anime', 'anime', 'anime', 'tennis', 'anime', 'anime', 'anime', 'anime', 'anime', 'anime', 'anime', 'anime', 'anime', 'anime', 'anime', 'anime', 'tennis', 'anime', 'anime', 'anime', 'anime', 'anime', 'anime', 'anime', 'anime', 'anime', 'anime', 'anime', 'anime', 'tennis', 'samsung', 'anime', 'anime', 'anime', 'tennis', 'samsung', 'anime', 'anime', 'tennis', 'tennis', 'tennis', 'anime', 'anime', 'anime', 'anime', 'anime', 'anime', 'tennis', 'anime', 'anime', 'tennis', 'anime', 'anime', 'anime', 'anime', 'anime', 'anime', 'tennis', 'anime', 'anime', 'tennis', 'anime', 'anime', 'anime', 'anime', 'anime', 'anime', 'anime', 'anime', 'anime', 'anime', 'anime', 'anime', 'tennis', 'anime', 'tennis', 'anime', 'anime', 'anime', 'tennis', 'anime', 'anime', 'anime', 'anime', 'tennis', 'anime', 'tennis', 'anime', 'anime', 'anime', 'anime', 'anime', 'anime', 'anime', 'anime', 'samsung', 'anime', 'science', 'tennis', 'anime', 'anime', 'anime', 'anime', 'anime', 'anime', 'anime', 'anime', 'anime', 'tennis', 'anime', 'anime', 'tennis', 'anime', 'tennis', 'anime', 'samsung', 'anime', 'anime', 'anime', 'anime', 'tennis', 'anime', 'anime', 'tennis', 'anime', 'tennis', 'anime', 'tennis', 'tennis', 'anime', 'tennis', 'anime', 'anime', 'anime', 'anime', 'anime', 'anime', 'samsung', 'anime', 'anime', 'anime', 'anime', 'anime', 'anime', 'samsung', 'anime', 'anime', 'anime', 'anime', 'anime', 'anime', 'tennis', 'anime', 'tennis', 'tennis', 'tennis', 'anime', 'anime', 'tennis', 'anime', 'anime', 'anime', 'anime', 'tennis', 'anime', 'anime', 'anime', 'tennis', 'anime', 'tennis', 'anime', 'anime', 'anime', 'tennis', 'anime', 'samsung', 'anime', 'anime', 'samsung', 'anime', 'anime', 'anime', 'anime', 'anime', 'tennis', 'anime', 'anime', 'tennis', 'anime', 'anime', 'anime', 'tennis', 'anime', 'anime', 'samsung', 'anime', 'anime', 'anime', 'anime', 'anime', 'anime', 'anime', 'anime', 'anime', 'anime', 'samsung', 'anime', 'tennis', 'tennis', 'anime', 'anime', 'anime', 'tennis', 'anime', 'anime', 'anime', 'tennis', 'anime', 'anime', 'anime', 'anime', 'anime', 'anime', 'tennis', 'anime', 'anime', 'anime', 'tennis', 'anime', 'anime', 'anime', 'anime', 'anime', 'anime', 'anime', 'tennis', 'anime', 'samsung', 'anime', 'anime', 'anime', 'anime', 'tennis', 'anime', 'anime', 'tennis', 'anime', 'anime', 'anime', 'samsung', 'anime', 'anime', 'anime', 'anime', 'anime', 'anime', 'anime', 'tennis', 'anime', 'anime', 'anime', 'anime', 'anime', 'anime', 'tennis', 'anime', 'anime', 'anime', 'anime', 'anime', 'anime', 'tennis', 'tennis', 'anime', 'anime', 'anime', 'anime', 'anime', 'anime', 'anime', 'anime', 'anime', 'anime', 'anime', 'anime', 'anime', 'anime', 'anime', 'anime', 'anime', 'anime', 'anime', 'anime', 'tennis', 'anime', 'anime', 'tennis', 'anime', 'anime', 'anime', 'anime', 'anime', 'anime', 'anime', 'anime', 'anime', 'anime', 'anime', 'anime', 'anime', 'samsung', 'anime', 'anime', 'anime', 'anime', 'anime', 'anime', 'anime', 'anime', 'anime', 'anime', 'anime']\n",
            "0.9069534767383692\n",
            "Time elapsed: 129.93099784851074 s\n"
          ]
        }
      ]
    },
    {
      "cell_type": "markdown",
      "metadata": {
        "id": "Io-CR8QqSDlf"
      },
      "source": [
        "K-fold for Bernoulli Naive Bayes\n",
        "- Using Stratified Kfold, the data is separated into validation and testing set, without shuffling the data among different classes, and will select data from all the class type."
      ],
      "id": "Io-CR8QqSDlf"
    },
    {
      "cell_type": "code",
      "metadata": {
        "colab": {
          "base_uri": "https://localhost:8080/"
        },
        "id": "x25eFQyZD9qe",
        "outputId": "80c0f2a2-8fc7-445a-b1f5-4af0deddd9a4"
      },
      "source": [
        "# K-fold for Bernoulli Naive Bayes #\n",
        "'''\n",
        "Notes:\n",
        "- When k-fold is applied, then for the test set a particular test data is selected by it.    \n",
        "- So, we need to apply Stratified Kfold\n",
        "'''\n",
        "import numpy as np\n",
        "from sklearn.model_selection import StratifiedKFold\n",
        "from sklearn.feature_extraction.text import CountVectorizer\n",
        "\n",
        "time_b=time.time()\n",
        "# Vectorizing the data for Bernoulli Naive Bayes\n",
        "vectorizer = CountVectorizer(max_features = 3000, binary = True)\n",
        "X = vectorizer.fit_transform(Comment)\n",
        "X_all_class = X.todense() \n",
        "\n",
        "# Defining k-fold object for Naive Bayes\n",
        "skf =StratifiedKFold(n_splits = 10)\n",
        "#index = skf.split(Comment, Subreddit)\n",
        "index = skf.split(X_all_class, Subreddit)\n",
        "\n",
        "# Function fork-fold accuracy calculations\n",
        "def kfoldNaive(X_Comment_train, X_comment_test, X_train, X_test, Y_train, Y_test):\n",
        "  #Dividing Bit Vecotrs according to class type for training Data\n",
        "  X_sci_tr = X_train[0:360]\n",
        "  X_lap_tr = X_all_class[360:720]\n",
        "  X_sam_tr = X_all_class[720:1080]\n",
        "  X_ten_tr = X_all_class[1080:1440]\n",
        "  X_ane_tr = X_all_class[1440:1800]\n",
        "\n",
        "  #All comments according to the class type for the training comments\n",
        "  science_thread = X_Comment_train[0:360]\n",
        "  laptop_thread = X_Comment_train[360:720]\n",
        "  samsung_thread = X_Comment_train[720:1080]\n",
        "  tennis_thread = X_Comment_train[1080:1440]\n",
        "  anime_thread = X_Comment_train[1440:1800]\n",
        "\n",
        "  bnb = BernoulliNaive(X_Comment_train, science_thread, laptop_thread, samsung_thread, tennis_thread, anime_thread)\n",
        "  thetak, thetajk = bnb.theta(X_sci_tr,  X_lap_tr, X_sam_tr, X_ten_tr, X_ane_tr)\n",
        "\n",
        "  Predict = []\n",
        "  for i in range(len(X_comment_test)):\n",
        "    DEL = bnb.ClassProbability(X_test[i], thetak, thetajk)\n",
        "    y = bnb.predict(DEL)\n",
        "    Predict.append(y)\n",
        "  print(Predict)\n",
        "\n",
        "  # Cal. Accurracy of the Naive Bayes on the Training data set #\n",
        "  accuracy = (Predict == Y_test).mean()\n",
        "  print(\"Accuracy of this fold is: \",accuracy)\n",
        "\n",
        "# Generating the accuracy for each set.\n",
        "for t, te in index:\n",
        "  #X_train, X_test = Comment[t], Comment[te]\n",
        "  X_train, X_test = X_all_class[t], X_all_class[te]\n",
        "  X_Comment_train, X_comment_test = Comment[t], Comment[te]\n",
        "  Y_train, Y_test = Subreddit[t], Subreddit[te]\n",
        "  kfoldNaive(X_Comment_train, X_comment_test, X_train, X_test, Y_train, Y_test)\n",
        "\n",
        "time_e = time.time()\n",
        "print('Time elapsed:',time_e-time_b,'s')"
      ],
      "id": "x25eFQyZD9qe",
      "execution_count": null,
      "outputs": [
        {
          "output_type": "stream",
          "name": "stdout",
          "text": [
            "['tennis', 'science', 'science', 'science', 'science', 'science', 'science', 'science', 'tennis', 'science', 'science', 'science', 'science', 'tennis', 'anime', 'science', 'science', 'tennis', 'science', 'science', 'science', 'science', 'science', 'science', 'science', 'science', 'science', 'science', 'science', 'science', 'science', 'science', 'science', 'science', 'science', 'tennis', 'tennis', 'science', 'samsung', 'science', 'laptop', 'laptop', 'laptop', 'laptop', 'laptop', 'laptop', 'laptop', 'laptop', 'samsung', 'laptop', 'laptop', 'laptop', 'laptop', 'laptop', 'laptop', 'laptop', 'laptop', 'samsung', 'laptop', 'samsung', 'laptop', 'laptop', 'laptop', 'laptop', 'laptop', 'laptop', 'laptop', 'laptop', 'laptop', 'laptop', 'laptop', 'laptop', 'laptop', 'laptop', 'laptop', 'laptop', 'laptop', 'laptop', 'laptop', 'laptop', 'samsung', 'samsung', 'samsung', 'samsung', 'samsung', 'samsung', 'samsung', 'samsung', 'samsung', 'samsung', 'samsung', 'tennis', 'samsung', 'samsung', 'samsung', 'samsung', 'samsung', 'samsung', 'samsung', 'samsung', 'samsung', 'samsung', 'samsung', 'samsung', 'samsung', 'samsung', 'samsung', 'samsung', 'samsung', 'samsung', 'samsung', 'samsung', 'samsung', 'samsung', 'samsung', 'samsung', 'samsung', 'samsung', 'samsung', 'samsung', 'tennis', 'laptop', 'tennis', 'tennis', 'tennis', 'tennis', 'tennis', 'tennis', 'tennis', 'tennis', 'tennis', 'tennis', 'tennis', 'tennis', 'tennis', 'tennis', 'tennis', 'tennis', 'tennis', 'tennis', 'tennis', 'tennis', 'tennis', 'tennis', 'tennis', 'tennis', 'tennis', 'tennis', 'tennis', 'tennis', 'tennis', 'tennis', 'tennis', 'tennis', 'tennis', 'tennis', 'tennis', 'tennis', 'tennis', 'tennis', 'anime', 'anime', 'anime', 'anime', 'anime', 'anime', 'anime', 'anime', 'anime', 'anime', 'anime', 'anime', 'anime', 'anime', 'anime', 'anime', 'anime', 'anime', 'tennis', 'anime', 'anime', 'anime', 'anime', 'anime', 'anime', 'anime', 'anime', 'anime', 'anime', 'tennis', 'tennis', 'anime', 'anime', 'anime', 'anime', 'anime', 'tennis', 'anime', 'anime', 'anime']\n",
            "Accuracy of this fold is:  0.915\n"
          ]
        },
        {
          "output_type": "stream",
          "name": "stderr",
          "text": [
            "<ipython-input-10-c5278142d34c>:34: RuntimeWarning: divide by zero encountered in log\n",
            "  return np.log(delta)      #Returing delta by calculating the log of the probabilites.\n"
          ]
        },
        {
          "output_type": "stream",
          "name": "stdout",
          "text": [
            "['science', 'science', 'anime', 'science', 'tennis', 'tennis', 'science', 'science', 'science', 'science', 'science', 'science', 'science', 'anime', 'tennis', 'science', 'science', 'science', 'science', 'science', 'science', 'science', 'science', 'tennis', 'science', 'anime', 'tennis', 'science', 'science', 'science', 'science', 'tennis', 'science', 'science', 'tennis', 'science', 'tennis', 'science', 'science', 'tennis', 'laptop', 'laptop', 'laptop', 'samsung', 'laptop', 'laptop', 'laptop', 'laptop', 'laptop', 'laptop', 'laptop', 'laptop', 'laptop', 'laptop', 'laptop', 'laptop', 'laptop', 'laptop', 'laptop', 'laptop', 'laptop', 'laptop', 'laptop', 'laptop', 'laptop', 'laptop', 'laptop', 'laptop', 'laptop', 'laptop', 'laptop', 'laptop', 'laptop', 'laptop', 'laptop', 'laptop', 'laptop', 'laptop', 'samsung', 'tennis', 'samsung', 'samsung', 'samsung', 'samsung', 'samsung', 'samsung', 'samsung', 'samsung', 'samsung', 'samsung', 'samsung', 'samsung', 'samsung', 'samsung', 'samsung', 'tennis', 'samsung', 'samsung', 'samsung', 'samsung', 'samsung', 'samsung', 'samsung', 'samsung', 'samsung', 'samsung', 'samsung', 'samsung', 'samsung', 'samsung', 'samsung', 'samsung', 'samsung', 'samsung', 'samsung', 'samsung', 'samsung', 'samsung', 'samsung', 'samsung', 'tennis', 'tennis', 'tennis', 'tennis', 'tennis', 'tennis', 'tennis', 'tennis', 'tennis', 'tennis', 'tennis', 'tennis', 'tennis', 'tennis', 'tennis', 'tennis', 'tennis', 'tennis', 'tennis', 'tennis', 'tennis', 'tennis', 'tennis', 'tennis', 'tennis', 'tennis', 'tennis', 'tennis', 'tennis', 'tennis', 'tennis', 'tennis', 'tennis', 'tennis', 'tennis', 'tennis', 'tennis', 'tennis', 'tennis', 'tennis', 'anime', 'anime', 'anime', 'anime', 'anime', 'anime', 'anime', 'anime', 'anime', 'anime', 'anime', 'anime', 'anime', 'anime', 'anime', 'anime', 'anime', 'anime', 'anime', 'anime', 'anime', 'anime', 'anime', 'anime', 'anime', 'anime', 'anime', 'anime', 'anime', 'anime', 'anime', 'anime', 'anime', 'anime', 'anime', 'anime', 'anime', 'anime', 'anime', 'anime']\n",
            "Accuracy of this fold is:  0.92\n"
          ]
        },
        {
          "output_type": "stream",
          "name": "stderr",
          "text": [
            "<ipython-input-10-c5278142d34c>:34: RuntimeWarning: divide by zero encountered in log\n",
            "  return np.log(delta)      #Returing delta by calculating the log of the probabilites.\n"
          ]
        },
        {
          "output_type": "stream",
          "name": "stdout",
          "text": [
            "['science', 'tennis', 'anime', 'science', 'science', 'anime', 'science', 'anime', 'tennis', 'science', 'science', 'anime', 'science', 'science', 'science', 'tennis', 'science', 'science', 'tennis', 'science', 'science', 'science', 'tennis', 'tennis', 'science', 'science', 'science', 'science', 'science', 'science', 'tennis', 'science', 'tennis', 'science', 'science', 'anime', 'science', 'science', 'science', 'tennis', 'laptop', 'laptop', 'tennis', 'laptop', 'laptop', 'laptop', 'laptop', 'laptop', 'laptop', 'laptop', 'tennis', 'laptop', 'laptop', 'laptop', 'laptop', 'laptop', 'tennis', 'laptop', 'laptop', 'laptop', 'laptop', 'laptop', 'laptop', 'laptop', 'laptop', 'laptop', 'laptop', 'laptop', 'laptop', 'laptop', 'laptop', 'laptop', 'laptop', 'laptop', 'laptop', 'laptop', 'laptop', 'laptop', 'laptop', 'laptop', 'samsung', 'samsung', 'samsung', 'samsung', 'samsung', 'samsung', 'samsung', 'samsung', 'samsung', 'samsung', 'samsung', 'samsung', 'samsung', 'samsung', 'samsung', 'samsung', 'samsung', 'samsung', 'samsung', 'samsung', 'samsung', 'samsung', 'samsung', 'samsung', 'samsung', 'samsung', 'samsung', 'samsung', 'samsung', 'samsung', 'samsung', 'samsung', 'samsung', 'samsung', 'samsung', 'samsung', 'samsung', 'samsung', 'samsung', 'samsung', 'tennis', 'tennis', 'tennis', 'tennis', 'tennis', 'tennis', 'tennis', 'tennis', 'tennis', 'tennis', 'tennis', 'tennis', 'tennis', 'tennis', 'tennis', 'tennis', 'tennis', 'tennis', 'tennis', 'tennis', 'tennis', 'tennis', 'tennis', 'tennis', 'tennis', 'tennis', 'tennis', 'tennis', 'tennis', 'tennis', 'tennis', 'tennis', 'tennis', 'tennis', 'tennis', 'tennis', 'tennis', 'tennis', 'tennis', 'tennis', 'anime', 'anime', 'anime', 'anime', 'anime', 'anime', 'anime', 'anime', 'anime', 'anime', 'anime', 'anime', 'anime', 'anime', 'anime', 'anime', 'anime', 'anime', 'anime', 'anime', 'anime', 'anime', 'anime', 'anime', 'anime', 'anime', 'anime', 'anime', 'samsung', 'anime', 'anime', 'anime', 'anime', 'samsung', 'anime', 'anime', 'anime', 'anime', 'tennis', 'anime']\n",
            "Accuracy of this fold is:  0.9\n"
          ]
        },
        {
          "output_type": "stream",
          "name": "stderr",
          "text": [
            "<ipython-input-10-c5278142d34c>:34: RuntimeWarning: divide by zero encountered in log\n",
            "  return np.log(delta)      #Returing delta by calculating the log of the probabilites.\n"
          ]
        },
        {
          "output_type": "stream",
          "name": "stdout",
          "text": [
            "['science', 'science', 'tennis', 'tennis', 'tennis', 'tennis', 'science', 'science', 'science', 'science', 'tennis', 'science', 'anime', 'tennis', 'science', 'science', 'tennis', 'tennis', 'tennis', 'science', 'anime', 'science', 'science', 'samsung', 'science', 'science', 'science', 'tennis', 'anime', 'tennis', 'tennis', 'anime', 'science', 'science', 'tennis', 'science', 'science', 'science', 'science', 'tennis', 'laptop', 'laptop', 'laptop', 'laptop', 'laptop', 'samsung', 'laptop', 'tennis', 'laptop', 'samsung', 'tennis', 'laptop', 'laptop', 'laptop', 'laptop', 'laptop', 'laptop', 'laptop', 'samsung', 'samsung', 'laptop', 'laptop', 'laptop', 'laptop', 'laptop', 'laptop', 'laptop', 'laptop', 'laptop', 'laptop', 'laptop', 'anime', 'laptop', 'laptop', 'laptop', 'laptop', 'laptop', 'laptop', 'laptop', 'laptop', 'samsung', 'samsung', 'samsung', 'samsung', 'samsung', 'samsung', 'samsung', 'samsung', 'samsung', 'samsung', 'samsung', 'samsung', 'samsung', 'samsung', 'samsung', 'samsung', 'samsung', 'samsung', 'samsung', 'samsung', 'samsung', 'samsung', 'samsung', 'samsung', 'samsung', 'samsung', 'samsung', 'samsung', 'samsung', 'samsung', 'samsung', 'samsung', 'samsung', 'samsung', 'samsung', 'samsung', 'samsung', 'samsung', 'samsung', 'samsung', 'tennis', 'tennis', 'tennis', 'tennis', 'tennis', 'tennis', 'tennis', 'tennis', 'tennis', 'tennis', 'tennis', 'tennis', 'tennis', 'tennis', 'tennis', 'tennis', 'tennis', 'tennis', 'tennis', 'tennis', 'tennis', 'tennis', 'tennis', 'tennis', 'tennis', 'tennis', 'tennis', 'tennis', 'tennis', 'tennis', 'tennis', 'tennis', 'tennis', 'tennis', 'tennis', 'tennis', 'tennis', 'tennis', 'tennis', 'tennis', 'anime', 'anime', 'anime', 'anime', 'anime', 'anime', 'anime', 'anime', 'anime', 'anime', 'anime', 'anime', 'anime', 'anime', 'anime', 'tennis', 'anime', 'anime', 'tennis', 'anime', 'anime', 'anime', 'anime', 'anime', 'anime', 'anime', 'anime', 'anime', 'anime', 'anime', 'anime', 'tennis', 'anime', 'tennis', 'anime', 'anime', 'anime', 'anime', 'anime', 'anime']\n",
            "Accuracy of this fold is:  0.85\n"
          ]
        },
        {
          "output_type": "stream",
          "name": "stderr",
          "text": [
            "<ipython-input-10-c5278142d34c>:34: RuntimeWarning: divide by zero encountered in log\n",
            "  return np.log(delta)      #Returing delta by calculating the log of the probabilites.\n"
          ]
        },
        {
          "output_type": "stream",
          "name": "stdout",
          "text": [
            "['science', 'science', 'tennis', 'science', 'science', 'science', 'science', 'science', 'science', 'science', 'tennis', 'science', 'science', 'science', 'science', 'anime', 'tennis', 'science', 'tennis', 'science', 'science', 'science', 'science', 'tennis', 'tennis', 'tennis', 'tennis', 'tennis', 'science', 'science', 'tennis', 'tennis', 'science', 'science', 'science', 'science', 'science', 'anime', 'science', 'science', 'laptop', 'samsung', 'laptop', 'laptop', 'laptop', 'laptop', 'laptop', 'laptop', 'laptop', 'laptop', 'samsung', 'laptop', 'laptop', 'samsung', 'laptop', 'laptop', 'laptop', 'laptop', 'laptop', 'laptop', 'laptop', 'laptop', 'laptop', 'laptop', 'laptop', 'laptop', 'laptop', 'laptop', 'samsung', 'laptop', 'laptop', 'laptop', 'laptop', 'samsung', 'samsung', 'laptop', 'laptop', 'laptop', 'laptop', 'tennis', 'samsung', 'tennis', 'samsung', 'samsung', 'samsung', 'samsung', 'samsung', 'samsung', 'anime', 'samsung', 'samsung', 'samsung', 'samsung', 'samsung', 'samsung', 'samsung', 'samsung', 'samsung', 'samsung', 'samsung', 'samsung', 'samsung', 'samsung', 'samsung', 'samsung', 'samsung', 'samsung', 'samsung', 'tennis', 'samsung', 'samsung', 'samsung', 'samsung', 'samsung', 'samsung', 'samsung', 'samsung', 'samsung', 'samsung', 'samsung', 'tennis', 'tennis', 'tennis', 'tennis', 'tennis', 'tennis', 'tennis', 'tennis', 'tennis', 'tennis', 'tennis', 'tennis', 'tennis', 'tennis', 'tennis', 'tennis', 'tennis', 'tennis', 'tennis', 'tennis', 'tennis', 'tennis', 'samsung', 'tennis', 'tennis', 'tennis', 'tennis', 'tennis', 'tennis', 'tennis', 'laptop', 'tennis', 'tennis', 'tennis', 'tennis', 'tennis', 'tennis', 'tennis', 'tennis', 'tennis', 'anime', 'anime', 'anime', 'anime', 'anime', 'anime', 'anime', 'anime', 'anime', 'anime', 'anime', 'anime', 'anime', 'tennis', 'anime', 'science', 'anime', 'anime', 'anime', 'anime', 'anime', 'anime', 'anime', 'anime', 'anime', 'anime', 'tennis', 'anime', 'anime', 'anime', 'anime', 'tennis', 'anime', 'tennis', 'anime', 'anime', 'anime', 'anime', 'tennis', 'anime']\n",
            "Accuracy of this fold is:  0.845\n"
          ]
        },
        {
          "output_type": "stream",
          "name": "stderr",
          "text": [
            "<ipython-input-10-c5278142d34c>:34: RuntimeWarning: divide by zero encountered in log\n",
            "  return np.log(delta)      #Returing delta by calculating the log of the probabilites.\n"
          ]
        },
        {
          "output_type": "stream",
          "name": "stdout",
          "text": [
            "['tennis', 'science', 'science', 'tennis', 'science', 'tennis', 'tennis', 'tennis', 'science', 'science', 'samsung', 'anime', 'anime', 'science', 'science', 'science', 'science', 'tennis', 'science', 'science', 'tennis', 'science', 'science', 'tennis', 'science', 'tennis', 'science', 'tennis', 'tennis', 'science', 'science', 'science', 'science', 'science', 'tennis', 'science', 'science', 'science', 'tennis', 'science', 'laptop', 'samsung', 'laptop', 'laptop', 'laptop', 'laptop', 'laptop', 'laptop', 'laptop', 'laptop', 'samsung', 'laptop', 'laptop', 'laptop', 'laptop', 'laptop', 'laptop', 'laptop', 'laptop', 'laptop', 'laptop', 'laptop', 'laptop', 'laptop', 'laptop', 'laptop', 'laptop', 'laptop', 'laptop', 'laptop', 'laptop', 'laptop', 'laptop', 'laptop', 'laptop', 'laptop', 'laptop', 'laptop', 'laptop', 'laptop', 'samsung', 'samsung', 'tennis', 'samsung', 'samsung', 'samsung', 'samsung', 'samsung', 'samsung', 'samsung', 'samsung', 'samsung', 'samsung', 'samsung', 'samsung', 'samsung', 'samsung', 'samsung', 'samsung', 'samsung', 'samsung', 'samsung', 'samsung', 'samsung', 'samsung', 'samsung', 'samsung', 'samsung', 'samsung', 'samsung', 'samsung', 'samsung', 'samsung', 'samsung', 'samsung', 'samsung', 'samsung', 'samsung', 'samsung', 'samsung', 'tennis', 'tennis', 'tennis', 'tennis', 'tennis', 'tennis', 'tennis', 'tennis', 'tennis', 'tennis', 'tennis', 'tennis', 'tennis', 'tennis', 'tennis', 'tennis', 'tennis', 'tennis', 'tennis', 'tennis', 'tennis', 'tennis', 'tennis', 'tennis', 'tennis', 'tennis', 'tennis', 'tennis', 'tennis', 'tennis', 'tennis', 'tennis', 'tennis', 'tennis', 'tennis', 'tennis', 'tennis', 'tennis', 'tennis', 'tennis', 'anime', 'tennis', 'anime', 'anime', 'anime', 'tennis', 'anime', 'anime', 'tennis', 'anime', 'anime', 'anime', 'anime', 'anime', 'anime', 'anime', 'anime', 'anime', 'anime', 'anime', 'anime', 'anime', 'tennis', 'anime', 'anime', 'anime', 'science', 'anime', 'anime', 'anime', 'anime', 'anime', 'tennis', 'tennis', 'anime', 'anime', 'tennis', 'anime', 'anime', 'anime']\n",
            "Accuracy of this fold is:  0.865\n"
          ]
        },
        {
          "output_type": "stream",
          "name": "stderr",
          "text": [
            "<ipython-input-10-c5278142d34c>:34: RuntimeWarning: divide by zero encountered in log\n",
            "  return np.log(delta)      #Returing delta by calculating the log of the probabilites.\n"
          ]
        },
        {
          "output_type": "stream",
          "name": "stdout",
          "text": [
            "['science', 'tennis', 'science', 'science', 'tennis', 'science', 'science', 'science', 'science', 'science', 'tennis', 'science', 'tennis', 'science', 'science', 'science', 'science', 'science', 'anime', 'science', 'tennis', 'anime', 'science', 'science', 'science', 'science', 'science', 'science', 'anime', 'science', 'science', 'science', 'science', 'tennis', 'science', 'tennis', 'science', 'science', 'science', 'tennis', 'laptop', 'laptop', 'laptop', 'laptop', 'samsung', 'laptop', 'laptop', 'laptop', 'laptop', 'laptop', 'laptop', 'laptop', 'laptop', 'laptop', 'laptop', 'laptop', 'laptop', 'laptop', 'laptop', 'laptop', 'laptop', 'laptop', 'laptop', 'laptop', 'laptop', 'laptop', 'laptop', 'laptop', 'laptop', 'laptop', 'samsung', 'laptop', 'laptop', 'laptop', 'laptop', 'laptop', 'laptop', 'laptop', 'laptop', 'laptop', 'samsung', 'samsung', 'samsung', 'samsung', 'tennis', 'samsung', 'samsung', 'samsung', 'samsung', 'samsung', 'samsung', 'samsung', 'samsung', 'samsung', 'samsung', 'samsung', 'samsung', 'samsung', 'samsung', 'samsung', 'samsung', 'samsung', 'samsung', 'tennis', 'samsung', 'samsung', 'tennis', 'samsung', 'samsung', 'samsung', 'samsung', 'samsung', 'samsung', 'science', 'samsung', 'samsung', 'samsung', 'samsung', 'samsung', 'samsung', 'tennis', 'anime', 'tennis', 'tennis', 'anime', 'tennis', 'tennis', 'anime', 'anime', 'tennis', 'anime', 'tennis', 'tennis', 'tennis', 'tennis', 'tennis', 'tennis', 'anime', 'tennis', 'tennis', 'tennis', 'tennis', 'tennis', 'tennis', 'tennis', 'anime', 'anime', 'tennis', 'tennis', 'tennis', 'anime', 'tennis', 'tennis', 'tennis', 'tennis', 'tennis', 'tennis', 'tennis', 'tennis', 'anime', 'anime', 'anime', 'anime', 'anime', 'tennis', 'anime', 'anime', 'anime', 'anime', 'anime', 'anime', 'tennis', 'anime', 'anime', 'anime', 'anime', 'tennis', 'anime', 'anime', 'science', 'anime', 'anime', 'tennis', 'anime', 'anime', 'tennis', 'anime', 'anime', 'anime', 'anime', 'anime', 'anime', 'samsung', 'anime', 'anime', 'anime', 'anime', 'anime', 'anime', 'anime']\n",
            "Accuracy of this fold is:  0.83\n",
            "['science', 'science', 'science', 'science', 'science', 'tennis', 'tennis', 'science', 'science', 'science', 'science', 'science', 'science', 'anime', 'science', 'science', 'science', 'science', 'science', 'science', 'tennis', 'science', 'science', 'science', 'science', 'tennis', 'science', 'science', 'tennis', 'science', 'science', 'science', 'science', 'science', 'tennis', 'science', 'science', 'tennis', 'science', 'science', 'laptop', 'laptop', 'laptop', 'laptop', 'tennis', 'laptop', 'laptop', 'laptop', 'laptop', 'laptop', 'laptop', 'laptop', 'laptop', 'samsung', 'laptop', 'laptop', 'laptop', 'laptop', 'laptop', 'laptop', 'laptop', 'laptop', 'laptop', 'laptop', 'laptop', 'laptop', 'laptop', 'laptop', 'laptop', 'laptop', 'laptop', 'laptop', 'laptop', 'laptop', 'laptop', 'laptop', 'laptop', 'laptop', 'laptop', 'laptop', 'samsung', 'samsung', 'samsung', 'samsung', 'samsung', 'samsung', 'tennis', 'tennis', 'samsung', 'tennis', 'samsung', 'samsung', 'tennis', 'samsung', 'tennis', 'samsung', 'tennis', 'samsung', 'samsung', 'tennis', 'samsung', 'tennis', 'samsung', 'tennis', 'tennis', 'tennis', 'tennis', 'samsung', 'tennis', 'samsung', 'samsung', 'samsung', 'samsung', 'samsung', 'samsung', 'samsung', 'tennis', 'tennis', 'samsung', 'samsung', 'tennis', 'anime', 'tennis', 'tennis', 'anime', 'anime', 'tennis', 'tennis', 'tennis', 'tennis', 'tennis', 'tennis', 'tennis', 'samsung', 'anime', 'tennis', 'anime', 'anime', 'tennis', 'tennis', 'tennis', 'tennis', 'tennis', 'anime', 'anime', 'tennis', 'anime', 'tennis', 'tennis', 'tennis', 'anime', 'tennis', 'tennis', 'tennis', 'anime', 'tennis', 'tennis', 'anime', 'tennis', 'tennis', 'anime', 'anime', 'anime', 'tennis', 'anime', 'science', 'anime', 'anime', 'anime', 'anime', 'tennis', 'anime', 'anime', 'anime', 'anime', 'anime', 'anime', 'anime', 'anime', 'anime', 'anime', 'anime', 'anime', 'anime', 'anime', 'anime', 'anime', 'anime', 'anime', 'anime', 'anime', 'anime', 'anime', 'tennis', 'anime', 'tennis', 'anime', 'anime', 'anime', 'anime']\n",
            "Accuracy of this fold is:  0.785\n",
            "['science', 'science', 'science', 'science', 'tennis', 'science', 'tennis', 'science', 'science', 'science', 'science', 'science', 'science', 'science', 'anime', 'tennis', 'science', 'science', 'science', 'science', 'science', 'science', 'science', 'tennis', 'tennis', 'anime', 'science', 'tennis', 'anime', 'science', 'science', 'science', 'science', 'science', 'science', 'science', 'science', 'science', 'anime', 'science', 'laptop', 'laptop', 'laptop', 'samsung', 'laptop', 'samsung', 'samsung', 'laptop', 'laptop', 'samsung', 'samsung', 'samsung', 'laptop', 'laptop', 'samsung', 'laptop', 'samsung', 'laptop', 'laptop', 'laptop', 'samsung', 'samsung', 'samsung', 'samsung', 'samsung', 'laptop', 'laptop', 'laptop', 'laptop', 'laptop', 'laptop', 'laptop', 'samsung', 'laptop', 'samsung', 'laptop', 'samsung', 'laptop', 'laptop', 'laptop', 'samsung', 'samsung', 'samsung', 'samsung', 'samsung', 'samsung', 'samsung', 'tennis', 'samsung', 'samsung', 'tennis', 'samsung', 'tennis', 'tennis', 'tennis', 'tennis', 'tennis', 'samsung', 'tennis', 'samsung', 'tennis', 'tennis', 'samsung', 'samsung', 'tennis', 'tennis', 'tennis', 'samsung', 'samsung', 'tennis', 'samsung', 'samsung', 'samsung', 'samsung', 'samsung', 'tennis', 'tennis', 'samsung', 'samsung', 'samsung', 'anime', 'science', 'tennis', 'tennis', 'anime', 'tennis', 'anime', 'tennis', 'tennis', 'tennis', 'anime', 'tennis', 'tennis', 'anime', 'tennis', 'anime', 'anime', 'tennis', 'tennis', 'anime', 'tennis', 'tennis', 'anime', 'anime', 'tennis', 'anime', 'tennis', 'tennis', 'anime', 'tennis', 'tennis', 'tennis', 'tennis', 'anime', 'tennis', 'tennis', 'tennis', 'anime', 'anime', 'anime', 'tennis', 'anime', 'anime', 'anime', 'anime', 'anime', 'anime', 'anime', 'anime', 'anime', 'anime', 'anime', 'anime', 'anime', 'anime', 'tennis', 'anime', 'anime', 'anime', 'anime', 'anime', 'anime', 'anime', 'anime', 'anime', 'anime', 'anime', 'anime', 'anime', 'anime', 'anime', 'anime', 'anime', 'anime', 'anime', 'anime', 'anime', 'anime', 'anime', 'anime']\n",
            "Accuracy of this fold is:  0.695\n"
          ]
        },
        {
          "output_type": "stream",
          "name": "stderr",
          "text": [
            "<ipython-input-10-c5278142d34c>:34: RuntimeWarning: divide by zero encountered in log\n",
            "  return np.log(delta)      #Returing delta by calculating the log of the probabilites.\n"
          ]
        },
        {
          "output_type": "stream",
          "name": "stdout",
          "text": [
            "['science', 'science', 'tennis', 'science', 'science', 'science', 'tennis', 'science', 'science', 'tennis', 'tennis', 'science', 'science', 'tennis', 'science', 'science', 'anime', 'science', 'science', 'science', 'tennis', 'science', 'science', 'science', 'science', 'science', 'science', 'science', 'science', 'science', 'science', 'science', 'science', 'science', 'science', 'tennis', 'tennis', 'tennis', 'anime', 'samsung', 'laptop', 'samsung', 'laptop', 'samsung', 'laptop', 'laptop', 'laptop', 'samsung', 'samsung', 'laptop', 'laptop', 'samsung', 'laptop', 'laptop', 'samsung', 'laptop', 'laptop', 'laptop', 'laptop', 'laptop', 'laptop', 'laptop', 'laptop', 'samsung', 'laptop', 'laptop', 'laptop', 'samsung', 'laptop', 'samsung', 'laptop', 'laptop', 'laptop', 'laptop', 'samsung', 'laptop', 'samsung', 'samsung', 'laptop', 'samsung', 'samsung', 'samsung', 'tennis', 'samsung', 'tennis', 'samsung', 'samsung', 'tennis', 'tennis', 'tennis', 'tennis', 'samsung', 'tennis', 'samsung', 'tennis', 'tennis', 'samsung', 'tennis', 'tennis', 'tennis', 'tennis', 'tennis', 'samsung', 'samsung', 'tennis', 'tennis', 'samsung', 'tennis', 'tennis', 'tennis', 'samsung', 'samsung', 'samsung', 'tennis', 'samsung', 'tennis', 'samsung', 'tennis', 'samsung', 'tennis', 'anime', 'anime', 'tennis', 'anime', 'anime', 'tennis', 'anime', 'tennis', 'tennis', 'anime', 'tennis', 'anime', 'tennis', 'tennis', 'tennis', 'tennis', 'tennis', 'tennis', 'anime', 'anime', 'anime', 'tennis', 'anime', 'tennis', 'tennis', 'anime', 'anime', 'tennis', 'samsung', 'anime', 'tennis', 'tennis', 'anime', 'tennis', 'tennis', 'anime', 'anime', 'tennis', 'anime', 'anime', 'anime', 'anime', 'anime', 'anime', 'anime', 'anime', 'anime', 'anime', 'anime', 'anime', 'tennis', 'anime', 'anime', 'tennis', 'anime', 'anime', 'anime', 'anime', 'anime', 'anime', 'anime', 'anime', 'anime', 'anime', 'anime', 'anime', 'anime', 'tennis', 'anime', 'anime', 'anime', 'anime', 'anime', 'anime', 'anime', 'anime', 'anime', 'anime', 'anime']\n",
            "Accuracy of this fold is:  0.6582914572864321\n",
            "Time elapsed: 114.82216930389404 s\n"
          ]
        }
      ]
    },
    {
      "cell_type": "markdown",
      "metadata": {
        "id": "TmmEmgOISWOc"
      },
      "source": [
        "Classification Accuracy vs Vocabulary Size plot"
      ],
      "id": "TmmEmgOISWOc"
    },
    {
      "cell_type": "code",
      "metadata": {
        "id": "MZfQHB8nEufh",
        "colab": {
          "base_uri": "https://localhost:8080/",
          "height": 472
        },
        "outputId": "545ea351-1eaf-4999-ec15-f0cbd8f8c2f5"
      },
      "source": [
        "#Classification Accuracy vs Vocabulary Size plot\n",
        "import numpy as np\n",
        "import matplotlib.pyplot as plt\n",
        "Vocab_Size = np.array([3000,4000,5000,6000,7000,8000,9000,10000,11000,12000,13000,14000,15000,15365]); \n",
        "Class_Acc=np.array([0.9069534767383692,0.894447223611806,0.8949474737368684,0.8814407203601801,0.8659329664832416,0.8659329664832416,\n",
        "                    0.8659329664832416,0.8549274637318659,0.8044022011005503,0.7708854427213607,0.753376688344172,0.753376688344172,0.753376688344172,0.753376688344172])*100;\n",
        "plt.plot(Vocab_Size,Class_Acc,'-*b');plt.xlabel('Vocabulary Size');plt.ylabel('Classfication Accuracy (%)');plt.grid(True);\n",
        "plt.title('Classfication Accuracy vs Vocabulary Size');plt.xticks([3000,5000,7000,9000,11000,13000,15000]);plt.ylim([0,100]);"
      ],
      "id": "MZfQHB8nEufh",
      "execution_count": null,
      "outputs": [
        {
          "output_type": "display_data",
          "data": {
            "text/plain": [
              "<Figure size 640x480 with 1 Axes>"
            ],
            "image/png": "[encoded data removed]"
          },
          "metadata": {}
        }
      ]
    },
    {
      "cell_type": "markdown",
      "metadata": {
        "id": "fnP1yXUnSURB"
      },
      "source": [
        "Decision Tree Classification\n",
        "- It also includes some pre-processing part"
      ],
      "id": "fnP1yXUnSURB"
    },
    {
      "cell_type": "code",
      "metadata": {
        "id": "matched-instruction",
        "colab": {
          "base_uri": "https://localhost:8080/",
          "height": 757
        },
        "outputId": "df7e1875-03a0-44e4-fbbd-0ae1fd775601"
      },
      "source": [
        "# Decision Tree Classification ##\n",
        "\n",
        "from sklearn.feature_extraction.text import TfidfVectorizer, CountVectorizer\n",
        "from sklearn.metrics import classification_report\n",
        "from sklearn.model_selection import train_test_split\n",
        "from sklearn.tree import DecisionTreeClassifier\n",
        "from sklearn import tree\n",
        "from sklearn.metrics import confusion_matrix\n",
        "\n",
        "import numpy as np\n",
        "import matplotlib.pyplot as plt\n",
        "       \n",
        "#print(df_cc)\n",
        "# df.head()\n",
        "plt.figure(figsize=(5,4))\n",
        "fig=df.groupby('subreddit').body.count().plot.bar() #storing the bar graph as an object\n",
        "# df.groupby('subreddit').count()\n",
        "#For loop to annotate the bar graph with corresponding y axis values\n",
        "for b in fig.patches:\n",
        "       plt.text(b.get_x()+b.get_width()/5,b.get_height(),int(b.get_height()),va='bottom')\n",
        "plt.ylabel('Number of instances per class');plt.title('Reddit dataset');plt.xticks(rotation='horizontal');plt.show()\n",
        "time_b=time.time() \n",
        "X_train_dt, X_test_dt, y_train_dt, y_test_dt = train_test_split(df['body'], df['subreddit'],random_state=0)\n",
        "vect = CountVectorizer(binary=True)         #Binary representation of input text data\n",
        "X_train_dt = vect.fit_transform(X_train_dt)       #Fit data and transform\n",
        "#print(\"X_train_dt: \\n\",X_train_dt.todense())\n",
        "X_test_dt = vect.transform(X_test_dt)             #Standardize data by Centering and Scaling\n",
        "#print(X_test)\n",
        "dt = DecisionTreeClassifier()\n",
        "dt.fit(X_train_dt, y_train_dt)                    #Model Fit function\n",
        "y_pred_dt = dt.predict(X_test_dt)                 #Predict function\n",
        "print(classification_report(y_test_dt, y_pred_dt))\n",
        "print(confusion_matrix(y_test_dt, y_pred_dt))\n",
        "#len(vect.get_feature_names())\n",
        "print('\\n',np.size(y_pred_dt))\n",
        "time_e = time.time()\n",
        "print('Time elapsed:',time_e-time_b,'s')"
      ],
      "id": "matched-instruction",
      "execution_count": null,
      "outputs": [
        {
          "output_type": "display_data",
          "data": {
            "text/plain": [
              "<Figure size 500x400 with 1 Axes>"
            ],
            "image/png": "[encoded data removed]"
          },
          "metadata": {}
        },
        {
          "output_type": "stream",
          "name": "stdout",
          "text": [
            "              precision    recall  f1-score   support\n",
            "\n",
            "       anime       0.79      0.72      0.75       104\n",
            "      laptop       0.84      0.78      0.81       103\n",
            "     samsung       0.78      0.70      0.74        91\n",
            "     science       0.64      0.71      0.68       104\n",
            "      tennis       0.67      0.78      0.72        98\n",
            "\n",
            "    accuracy                           0.74       500\n",
            "   macro avg       0.75      0.74      0.74       500\n",
            "weighted avg       0.75      0.74      0.74       500\n",
            "\n",
            "[[75  1  1 17 10]\n",
            " [ 4 80  6  7  6]\n",
            " [ 5  9 64  4  9]\n",
            " [ 8  2  8 74 12]\n",
            " [ 3  3  3 13 76]]\n",
            "\n",
            " 500\n",
            "Time elapsed: 0.6969625949859619 s\n"
          ]
        }
      ]
    },
    {
      "cell_type": "markdown",
      "metadata": {
        "id": "TqVsZ3QVSZP4"
      },
      "source": [
        "Dividing the data into four training and test input and outputs and vectorizing it"
      ],
      "id": "TqVsZ3QVSZP4"
    },
    {
      "cell_type": "code",
      "metadata": {
        "id": "qGvoq8-DxZJV",
        "colab": {
          "base_uri": "https://localhost:8080/",
          "height": 348
        },
        "outputId": "af72886b-8358-4464-ac0e-e327870d44c3"
      },
      "source": [
        "## Dividing the data into four train and test input and outputs and vectorizing it ##\n",
        "\n",
        "from sklearn.feature_extraction.text import CountVectorizer\n",
        "from sklearn.model_selection import train_test_split\n",
        "\n",
        "X_train, X_test, Y_train, Y_test = train_test_split(Comment,Subreddit,test_size = 0.25 ,train_size = None,shuffle = True)\n",
        "\n",
        "#print(X_train)\n",
        "#print(Y_train)\n",
        "#print(X_test)\n",
        "\n",
        "vect = CountVectorizer(encoding='unicode_escape')\n",
        "X_train = vect.fit_transform(X_train)\n",
        "X_test = vect.transform(X_test)\n",
        "\n",
        "print(\"X_train: \\n\",X_train.todense())\n",
        "\n",
        "print(\"\\nX_test: \\n\",X_test.todense())\n",
        "\n",
        "#Input from test.csv file\n",
        "test_X = vect.transform(test_Comment)\n",
        "#print(test_X)\n",
        "\n",
        "'''\n",
        "vectors_train = vectorizer.fit_transform(X_train)\n",
        "features = vectorizer.get_feature_names()\n",
        "print(features)               # Feautre items list is printed\n",
        "print(len(features))\n",
        "''' "
      ],
      "id": "qGvoq8-DxZJV",
      "execution_count": null,
      "outputs": [
        {
          "output_type": "stream",
          "name": "stdout",
          "text": [
            "X_train: \n",
            " [[0 0 0 ... 0 0 0]\n",
            " [0 0 0 ... 0 0 0]\n",
            " [0 0 0 ... 0 0 0]\n",
            " ...\n",
            " [0 3 0 ... 0 0 0]\n",
            " [0 0 0 ... 0 0 0]\n",
            " [0 0 0 ... 0 0 0]]\n",
            "\n",
            "X_test: \n",
            " [[0 0 0 ... 0 0 0]\n",
            " [0 0 0 ... 0 0 0]\n",
            " [0 0 0 ... 0 0 0]\n",
            " ...\n",
            " [0 0 0 ... 0 0 0]\n",
            " [0 0 0 ... 0 0 0]\n",
            " [0 0 0 ... 0 0 0]]\n"
          ]
        },
        {
          "output_type": "execute_result",
          "data": {
            "text/plain": [
              "'\\nvectors_train = vectorizer.fit_transform(X_train)\\nfeatures = vectorizer.get_feature_names()\\nprint(features)               # Feautre items list is printed\\nprint(len(features))\\n'"
            ],
            "application/vnd.google.colaboratory.intrinsic+json": {
              "type": "string"
            }
          },
          "metadata": {},
          "execution_count": 15
        }
      ]
    },
    {
      "cell_type": "markdown",
      "metadata": {
        "id": "EahJAO4fSbm2"
      },
      "source": [
        "Applying TF-IDF to data\n",
        "- Can be used for feature selection for all the models."
      ],
      "id": "EahJAO4fSbm2"
    },
    {
      "cell_type": "code",
      "metadata": {
        "id": "YMrbefgTf3uW",
        "colab": {
          "base_uri": "https://localhost:8080/"
        },
        "outputId": "97af83d7-64ac-4fd9-b0e8-1a77bfb22e61"
      },
      "source": [
        "## Applying TF-IDF to data ##\n",
        "\n",
        "from sklearn.feature_extraction.text import TfidfVectorizer\n",
        "from sklearn.feature_extraction.text import CountVectorizer\n",
        "\n",
        "dataset = {\"I enjoy reading about Machine Learning and Machine Learning is my PhD subject\",\n",
        "    \"I would enjoy a walk in the park\",\n",
        "    \"I was reading in the library\"}\n",
        "\n",
        "#def tokens(x):\n",
        "  #return x.split(',')\n",
        "\n",
        "#The following dataset split has been done again in order to avoid confusion with X_train variable which is already vectorized.\n",
        "X_train_t, X_test_t, Y_train_t, Y_test_t = train_test_split(Comment,Subreddit,test_size = 0.25 ,train_size = None,shuffle = True)\n",
        "tf_idf_vectorizer = TfidfVectorizer(encoding='unicode_escape', max_features=3000)\n",
        "\n",
        "vectors_train_idf = tf_idf_vectorizer.fit_transform(X_train_t)\n",
        "X_tfidf = vectors_train_idf.todense()\n",
        "print(X_tfidf)\n",
        "# #vectors_test_idf = tf_idf_vectorizer.transform(X_test)\n",
        "# print(vectors_train_idf.todense())\n",
        "# #print(vectors_train_idf.toarray())\n",
        "\n",
        "# import pandas as pd\n",
        "# from google.colab import files\n",
        "\n",
        "# df_tfidf = pd.DataFrame(vectors_train_idf.todense())       #Storing the predicted results in the panda dataframe\n",
        "# print(df_tfidf)  \n",
        "\n",
        "# df_tfidf.to_csv('tfidf.csv')                                           #Storing panda dataframe into .csv file\n",
        "# files.download('tfidf.csv')                                       #Downloading the csv file"
      ],
      "id": "YMrbefgTf3uW",
      "execution_count": null,
      "outputs": [
        {
          "output_type": "stream",
          "name": "stdout",
          "text": [
            "[[0.         0.         0.         ... 0.         0.         0.        ]\n",
            " [0.         0.         0.         ... 0.         0.         0.        ]\n",
            " [0.         0.         0.         ... 0.         0.15847916 0.        ]\n",
            " ...\n",
            " [0.         0.         0.         ... 0.         0.         0.        ]\n",
            " [0.         0.         0.         ... 0.         0.         0.        ]\n",
            " [0.         0.         0.         ... 0.         0.         0.        ]]\n"
          ]
        }
      ]
    },
    {
      "cell_type": "markdown",
      "metadata": {
        "id": "w3hRBFUSSd_m"
      },
      "source": [
        "Applying the SVM to the model"
      ],
      "id": "w3hRBFUSSd_m"
    },
    {
      "cell_type": "code",
      "metadata": {
        "id": "FXbP8CQ8xgal",
        "colab": {
          "base_uri": "https://localhost:8080/",
          "height": 88
        },
        "outputId": "6ec1fbf1-c40e-4959-baa2-ad8ae35bec9b"
      },
      "source": [
        "## Applying Support Vector Machine to the model ##\n",
        "from sklearn.svm import SVC \n",
        "\n",
        "time_b=time.time()\n",
        "model = SVC(kernel = \"linear\")\n",
        "model.fit(X_train,Y_train)\n",
        "\n",
        "#Testing on the test dataset\n",
        "predictions = model.predict(X_test)\n",
        "#predictions = model.predict(X_train)\n",
        "accuracy = (predictions == Y_test).mean()\n",
        "#accuracy = (predictions == Y_train).mean()\n",
        "\n",
        "print(accuracy)\n",
        "#model.score(X_test, Y_test)\n",
        "#model.score(X_train, Y_train)\n",
        "\n",
        "#Getting o/p of test.csv data set\n",
        "predict_test = model.predict(test_X)\n",
        "print(predict_test)\n",
        "time_e = time.time()\n",
        "print('Time elapsed:',time_e-time_b,'s')\n",
        "\n",
        "'''\n",
        "Ouput of SVM\n",
        "For test_set = 0.75 the Acc = 76.5\n",
        "For test_set = 0.1 the Acc = 91\n",
        "For test_set = 0.25 the Acc = 89\n",
        "'''"
      ],
      "id": "FXbP8CQ8xgal",
      "execution_count": null,
      "outputs": [
        {
          "output_type": "stream",
          "name": "stdout",
          "text": [
            "0.82\n",
            "['science' 'science' 'science' ... 'anime' 'anime' 'anime']\n",
            "Time elapsed: 4.2699360847473145 s\n"
          ]
        },
        {
          "output_type": "execute_result",
          "data": {
            "text/plain": [
              "'\\nOuput of SVM\\nFor test_set = 0.75 the Acc = 76.5\\nFor test_set = 0.1 the Acc = 91\\nFor test_set = 0.25 the Acc = 89\\n'"
            ],
            "application/vnd.google.colaboratory.intrinsic+json": {
              "type": "string"
            }
          },
          "metadata": {},
          "execution_count": 17
        }
      ]
    },
    {
      "cell_type": "markdown",
      "metadata": {
        "id": "eQ8UMsXVSgDb"
      },
      "source": [
        "Applying the random forest"
      ],
      "id": "eQ8UMsXVSgDb"
    },
    {
      "cell_type": "code",
      "metadata": {
        "id": "XM46XUFWNxr3",
        "colab": {
          "base_uri": "https://localhost:8080/"
        },
        "outputId": "d11195c8-4c02-410b-f0eb-8af74d143ef4"
      },
      "source": [
        "## Applying Random forest classifier##\n",
        "\n",
        "from sklearn.ensemble import RandomForestClassifier\n",
        "time_b=time.time()\n",
        "clf = RandomForestClassifier()\n",
        "clf.fit(X_train,Y_train)\n",
        "predictions = clf.predict(X_test)\n",
        "accuracy = (predictions == Y_test).mean()\n",
        "print(accuracy)\n",
        "time_e = time.time()\n",
        "print('Time elapsed:',time_e-time_b,'s')"
      ],
      "id": "XM46XUFWNxr3",
      "execution_count": null,
      "outputs": [
        {
          "output_type": "stream",
          "name": "stdout",
          "text": [
            "0.88\n",
            "Time elapsed: 4.418438673019409 s\n"
          ]
        }
      ]
    },
    {
      "cell_type": "markdown",
      "metadata": {
        "id": "3V1TYKfjSh7t"
      },
      "source": [
        "Applying Logistic Regression"
      ],
      "id": "3V1TYKfjSh7t"
    },
    {
      "cell_type": "code",
      "metadata": {
        "id": "Rxq_eHTK9zQz",
        "colab": {
          "base_uri": "https://localhost:8080/"
        },
        "outputId": "ca2bd929-cd4e-442e-9e05-44c88d343598"
      },
      "source": [
        "## Applying Logistic Regression ##\n",
        "\n",
        "from sklearn.linear_model import LogisticRegression\n",
        "from sklearn.model_selection import train_test_split\n",
        "\n",
        "time_b=time.time()\n",
        "#Trying to determine the optimal value of C (regularization factor)\n",
        "#C_values = np.logspace(-3, -1., 10) # smaller C = stronger regularization\n",
        "C_values = np.array([0.00001,0.0001,0.001,0.002,0.003,0.004,0.005,0.006,0.007,0.008,0.009,0.01,0.02],dtype=float)\n",
        "C_perf = []\n",
        "# print(\"Regularization strengths:\", C_values)\n",
        "for C in C_values:  \n",
        "  model = LogisticRegression(C=C, random_state=0)\n",
        "  model.fit(X_train, Y_train)  \n",
        "  test_pred = model.predict(X_test)\n",
        "  C_perf.append((test_pred == Y_test).mean())\n",
        "\n",
        "# plt.xlabel('C')\n",
        "# plt.ylabel('Performance on test set')\n",
        "# plt.plot(C_values, C_perf)\n",
        "'''\n",
        "LR_model = LogisticRegression(max_iter = 1000, random_state=0)\n",
        "LR_model.fit(X_train, Y_train)\n",
        "\n",
        "LR_predict = LR_model.predict(X_test)\n",
        "LR_accuracy = (LR_predict == Y_test).mean()\n",
        "print(\"Accuracy of LR model = \", LR_accuracy)\n",
        "'''\n",
        "time_e = time.time()\n",
        "print('Time elapsed:',time_e-time_b,'s')"
      ],
      "id": "Rxq_eHTK9zQz",
      "execution_count": null,
      "outputs": [
        {
          "output_type": "stream",
          "name": "stdout",
          "text": [
            "Time elapsed: 29.489969491958618 s\n"
          ]
        }
      ]
    },
    {
      "cell_type": "code",
      "metadata": {
        "id": "FVGO2sgTzuob"
      },
      "source": [
        "#Trying to determine the optimal value of random state\n",
        "\n",
        "from sklearn.linear_model import LogisticRegression\n",
        "\n",
        "a_list = list(range(0, 50))\n",
        "C_performance = []\n",
        "random_state = []\n",
        "#print(a_list)\n",
        "\n",
        "for i in range(0,50,1):  \n",
        "  model = LogisticRegression(C=0.00001, random_state=i)\n",
        "  model.fit(X_train, Y_train)  \n",
        "  test_pred = model.predict(X_test)\n",
        "  C_performance.append((test_pred == Y_test).mean())\n",
        "  random_state.append(i)\n",
        "\n",
        "# print(C_performance)\n",
        "# print(random_state)\n",
        "\n",
        "# plt.xlabel('Random state')\n",
        "# plt.ylabel('Performance on test set')\n",
        "# plt.plot(random_state, C_performance)"
      ],
      "id": "FVGO2sgTzuob",
      "execution_count": null,
      "outputs": []
    },
    {
      "cell_type": "markdown",
      "metadata": {
        "id": "FX-g13RWSnUz"
      },
      "source": [
        "Applying Neural Network Classifier"
      ],
      "id": "FX-g13RWSnUz"
    },
    {
      "cell_type": "code",
      "metadata": {
        "id": "yCqGHANfylq6",
        "colab": {
          "base_uri": "https://localhost:8080/",
          "height": 105
        },
        "outputId": "66ca17e7-3501-4758-fb81-adef2c39cb7f"
      },
      "source": [
        "## Applying the NN ##\n",
        "from sklearn.neural_network import MLPClassifier\n",
        "\n",
        "time_b=time.time()\n",
        "#Can be experiment with different activation functions, and other parameters\n",
        "#clf = MLPClassifier(hidden_layer_sizes = 2, activation = 'logistic', slover = 'sgd', learning_rate = 'adaptive')\n",
        "#clf = MLPClassifier()\n",
        "clf = MLPClassifier(random_state=1, max_iter=3000)\n",
        "#clf = MLPClassifier(solver='lbfgs', alpha=1e-5,hidden_layer_sizes=100, random_state=1)\n",
        "clf.fit(X_train,Y_train)\n",
        "\n",
        "predictions = clf.predict(X_test)\n",
        "\n",
        "accuracy = (predictions == Y_test).mean()\n",
        "print(accuracy)\n",
        "\n",
        "#Predicting the o/p for the test.csv dataset\n",
        "predict_test = clf.predict(test_X)\n",
        "print(predict_test)\n",
        "time_e = time.time()\n",
        "print('Time elapsed:',time_e-time_b,'s')\n",
        "'''\n",
        "- For direct MLPClassifier without any argument, at test = 0.25 the output was 90.4 %\n",
        "- For same direct MLP at test 0.1 we have 93%\n",
        "- For (random_state=1, max_iter=3000) we are getting the accuracy of the 92.8%\n",
        "'''"
      ],
      "id": "yCqGHANfylq6",
      "execution_count": null,
      "outputs": [
        {
          "output_type": "stream",
          "name": "stdout",
          "text": [
            "0.916\n",
            "['science' 'science' 'science' ... 'anime' 'anime' 'anime']\n",
            "Time elapsed: 16.083986282348633 s\n"
          ]
        },
        {
          "output_type": "execute_result",
          "data": {
            "text/plain": [
              "'\\n- For direct MLPClassifier without any argument, at test = 0.25 the output was 90.4 %\\n- For same direct MLP at test 0.1 we have 93%\\n- For (random_state=1, max_iter=3000) we are getting the accuracy of the 92.8%\\n'"
            ],
            "application/vnd.google.colaboratory.intrinsic+json": {
              "type": "string"
            }
          },
          "metadata": {},
          "execution_count": 21
        }
      ]
    },
    {
      "cell_type": "markdown",
      "metadata": {
        "id": "SbfAA7gRSqMX"
      },
      "source": [
        "SVM with SGD"
      ],
      "id": "SbfAA7gRSqMX"
    },
    {
      "cell_type": "code",
      "metadata": {
        "id": "YX25hawdyMRq",
        "colab": {
          "base_uri": "https://localhost:8080/"
        },
        "outputId": "98e2e165-198b-420c-d172-ea716cde7d5d"
      },
      "source": [
        "# SVM with SGD #\n",
        "\n",
        "from sklearn.linear_model import SGDClassifier\n",
        "from sklearn.preprocessing import StandardScaler\n",
        "from sklearn.pipeline import make_pipeline\n",
        "\n",
        "time_b=time.time()\n",
        "#sgd = make_pipeline(StandardScaler(with_mean=False), SGDClassifier())\n",
        "sgd = SGDClassifier()\n",
        "sgd.fit(X_train,Y_train)\n",
        "\n",
        "predictions = sgd.predict(X_test)\n",
        "\n",
        "accuracy = (predictions == Y_test).mean()\n",
        "print(accuracy)\n",
        "time_e = time.time()\n",
        "print('Time elapsed:',time_e-time_b,'s')"
      ],
      "id": "YX25hawdyMRq",
      "execution_count": null,
      "outputs": [
        {
          "output_type": "stream",
          "name": "stdout",
          "text": [
            "0.892\n",
            "Time elapsed: 0.05092906951904297 s\n"
          ]
        }
      ]
    },
    {
      "cell_type": "code",
      "metadata": {
        "id": "nYapL2_Gz9wL",
        "colab": {
          "base_uri": "https://localhost:8080/",
          "height": 277
        },
        "outputId": "6b04ead6-f58f-4fe4-c722-a420e04515ac"
      },
      "source": [
        "#Storing the results in excel sheet\n",
        "\n",
        "import pandas as pd\n",
        "from google.colab import files\n",
        "\n",
        "df2 = pd.DataFrame(predict_test,test_id, columns = ['subreddit'])       #Storing the predicted results in the panda dataframe\n",
        "print(df2)  \n",
        "\n",
        "df2.to_csv('submission.csv')                                           #Storing panda dataframe into .csv file\n",
        "files.download('submission.csv')                                       #Downloading the csv file"
      ],
      "id": "nYapL2_Gz9wL",
      "execution_count": null,
      "outputs": [
        {
          "output_type": "stream",
          "name": "stdout",
          "text": [
            "     subreddit\n",
            "id            \n",
            "0      science\n",
            "1      science\n",
            "2      science\n",
            "3      science\n",
            "4      science\n",
            "...        ...\n",
            "1373     anime\n",
            "1374     anime\n",
            "1375     anime\n",
            "1376     anime\n",
            "1377     anime\n",
            "\n",
            "[1378 rows x 1 columns]\n"
          ]
        },
        {
          "output_type": "display_data",
          "data": {
            "text/plain": [
              "<IPython.core.display.Javascript object>"
            ],
            "application/javascript": [
              "\n",
              "    async function download(id, filename, size) {\n",
              "      if (!google.colab.kernel.accessAllowed) {\n",
              "        return;\n",
              "      }\n",
              "      const div = document.createElement('div');\n",
              "      const label = document.createElement('label');\n",
              "      label.textContent = `Downloading \"${filename}\": `;\n",
              "      div.appendChild(label);\n",
              "      const progress = document.createElement('progress');\n",
              "      progress.max = size;\n",
              "      div.appendChild(progress);\n",
              "      document.body.appendChild(div);\n",
              "\n",
              "      const buffers = [];\n",
              "      let downloaded = 0;\n",
              "\n",
              "      const channel = await google.colab.kernel.comms.open(id);\n",
              "      // Send a message to notify the kernel that we're ready.\n",
              "      channel.send({})\n",
              "\n",
              "      for await (const message of channel.messages) {\n",
              "        // Send a message to notify the kernel that we're ready.\n",
              "        channel.send({})\n",
              "        if (message.buffers) {\n",
              "          for (const buffer of message.buffers) {\n",
              "            buffers.push(buffer);\n",
              "            downloaded += buffer.byteLength;\n",
              "            progress.value = downloaded;\n",
              "          }\n",
              "        }\n",
              "      }\n",
              "      const blob = new Blob(buffers, {type: 'application/binary'});\n",
              "      const a = document.createElement('a');\n",
              "      a.href = window.URL.createObjectURL(blob);\n",
              "      a.download = filename;\n",
              "      div.appendChild(a);\n",
              "      a.click();\n",
              "      div.remove();\n",
              "    }\n",
              "  "
            ]
          },
          "metadata": {}
        },
        {
          "output_type": "display_data",
          "data": {
            "text/plain": [
              "<IPython.core.display.Javascript object>"
            ],
            "application/javascript": [
              "download(\"download_434b3e91-dbc1-4570-aa5d-dd7cf12ad8ff\", \"submission.csv\", 15673)"
            ]
          },
          "metadata": {}
        }
      ]
    },
    {
      "cell_type": "markdown",
      "metadata": {
        "id": "Rn7ocgHMjSPA"
      },
      "source": [
        "Scikit Bernoulli Naive Bayes vs Bernoulli Naive Bayes model built from scratch."
      ],
      "id": "Rn7ocgHMjSPA"
    },
    {
      "cell_type": "code",
      "metadata": {
        "id": "l891wFRy0Ugl",
        "colab": {
          "base_uri": "https://localhost:8080/"
        },
        "outputId": "3f64a768-f0cb-4779-f8a5-5657129cf7ff"
      },
      "source": [
        "#Scikit Based Naive Bayes Text Classification\n",
        "\n",
        "from sklearn.feature_extraction.text import CountVectorizer\n",
        "from sklearn.model_selection import train_test_split\n",
        "from sklearn.naive_bayes import BernoulliNB\n",
        "X_BNBtr, X_BNBtst, y_BNBtr, y_BNBtst = train_test_split(df['body'], df['subreddit'],train_size=0.75,random_state=42,shuffle=True)  \n",
        "bnb_vect = CountVectorizer(binary=True, max_features=3000)       #Binary representation of input text data\n",
        "X_BNBtr = bnb_vect.fit_transform(X_BNBtr)     #Fit data and transform\n",
        "#print(X_BNBtr)\n",
        "X_BNBtst = bnb_vect.transform(X_BNBtst)       #Standardize data by Centering and Scaling\n",
        "#print(X_BNBtst)\n",
        "bnb = BernoulliNB()\n",
        "bnb.fit(X_BNBtr, y_BNBtr)                     #Model Fit function\n",
        "y_BNBpred = bnb.predict(X_BNBtst)             #Predict Function\n",
        "#print('\\n',np.size(y_BNBpred))\n",
        "bnb_accuracy = (y_BNBpred == y_BNBtst).mean() #Accuracy Evaluation\n",
        "print('Accuracy :',bnb_accuracy*100,'%')\n",
        "#print(X_BNBtr)"
      ],
      "id": "l891wFRy0Ugl",
      "execution_count": null,
      "outputs": [
        {
          "output_type": "stream",
          "name": "stdout",
          "text": [
            "Accuracy : 84.0 %\n"
          ]
        }
      ]
    },
    {
      "cell_type": "markdown",
      "metadata": {
        "id": "WPDDNMZmS8ya"
      },
      "source": [
        "Spot-Check Algorithms\n",
        "- It is used to do Kfold on all Sci-Kit Models, and running it will give the accuracy and time period to implement k-fold for a particular model."
      ],
      "id": "WPDDNMZmS8ya"
    },
    {
      "cell_type": "code",
      "metadata": {
        "id": "UMzh-SYzctrV",
        "colab": {
          "base_uri": "https://localhost:8080/"
        },
        "outputId": "84f975c0-6236-4119-b19e-76603a7a038a"
      },
      "source": [
        "# Spot-Check Algorithms\n",
        "\n",
        "from sklearn.model_selection import KFold\n",
        "from sklearn.model_selection import train_test_split\n",
        "from sklearn.model_selection import cross_val_score\n",
        "from sklearn.metrics import accuracy_score\n",
        "from sklearn.pipeline import Pipeline\n",
        "from sklearn.linear_model import LogisticRegression\n",
        "from sklearn.tree import DecisionTreeClassifier\n",
        "from sklearn.neural_network import MLPClassifier\n",
        "from sklearn.naive_bayes import BernoulliNB\n",
        "from sklearn.svm import SVC\n",
        "\n",
        "classifiers = []\n",
        "classifiers.append(('LR', LogisticRegression()))\n",
        "classifiers.append(('NN', MLPClassifier()))\n",
        "classifiers.append(('DT', DecisionTreeClassifier()))\n",
        "#classifiers.append(('NB', BernoulliNB()))\n",
        "classifiers.append(('SVM', SVC()))\n",
        "classifiers.append(('RF', RandomForestClassifier()))\n",
        "\n",
        "#Testing accuracy of K-fold validation on above models\n",
        "results = []\n",
        "names = []\n",
        "for name, model in classifiers:\n",
        "  time_b=time.time()\n",
        "  kfold = KFold(n_splits = 10,shuffle=True,random_state = 42)\n",
        "  # cv_result = cross_val_score(model, X_train, Y_train, cv=kfold, scoring='accuracy') #Enable CountVectorizer(binary=True)\n",
        "  # cv_result = cross_val_score(model, X_train, Y_train, cv=kfold, scoring='accuracy')   #Enable CountVectorizer(binary=False)\n",
        "  cv_result = cross_val_score(model, vectors_train_idf, Y_train_t, cv=kfold, scoring='accuracy')   #Tf-IDF Vectorizer\n",
        "  results.append(cv_result)\n",
        "  names.append(name)\n",
        "  msg = \"%s: %f (%f)\" % (name, cv_result.mean(), cv_result.std())\n",
        "  print(msg)\n",
        "  time_e = time.time()\n",
        "  print('\\nTime elapsed:',time_e-time_b,'s\\n')  "
      ],
      "id": "UMzh-SYzctrV",
      "execution_count": null,
      "outputs": [
        {
          "output_type": "stream",
          "name": "stdout",
          "text": [
            "LR: 0.918631 (0.015656)\n",
            "\n",
            "Time elapsed: 7.096472978591919 s\n",
            "\n",
            "NN: 0.919275 (0.015065)\n",
            "\n",
            "Time elapsed: 96.17687678337097 s\n",
            "\n",
            "DT: 0.722488 (0.018331)\n",
            "\n",
            "Time elapsed: 1.6314582824707031 s\n",
            "\n",
            "SVM: 0.911946 (0.013567)\n",
            "\n",
            "Time elapsed: 17.67489790916443 s\n",
            "\n",
            "RF: 0.881280 (0.030744)\n",
            "\n",
            "Time elapsed: 10.202372789382935 s\n",
            "\n"
          ]
        }
      ]
    },
    {
      "cell_type": "code",
      "metadata": {
        "id": "mlO4qAek592W",
        "colab": {
          "base_uri": "https://localhost:8080/"
        },
        "outputId": "7159dbeb-83ec-42c3-f44b-c032f4d5dc30"
      },
      "source": [
        "#Plotting confusion matrix for LR model\n",
        "\n",
        "from sklearn.linear_model import LogisticRegression\n",
        "from sklearn.metrics import confusion_matrix\n",
        "from sklearn.metrics import roc_curve\n",
        "from sklearn.metrics import roc_auc_score\n",
        "from matplotlib import pyplot\n",
        "\n",
        "LR_model = LogisticRegression(max_iter = 1000, random_state=0)\n",
        "LR_model.fit(X_train, Y_train)\n",
        "LR_score = LR_model.score(X_test,Y_test)\n",
        "print(\"Accuracy from score method of LR model = \", LR_score)\n",
        "LR_predict = LR_model.predict(X_test)\n",
        "LR_accuracy = (LR_predict == Y_test).mean()\n",
        "print(\"Accuracy of LR model = \", LR_accuracy)    \n",
        "print(\"\\nConfusion Matrix of LR model\\n\",confusion_matrix(Y_test, LR_predict))"
      ],
      "id": "mlO4qAek592W",
      "execution_count": null,
      "outputs": [
        {
          "output_type": "stream",
          "name": "stdout",
          "text": [
            "Accuracy from score method of LR model =  0.87\n",
            "Accuracy of LR model =  0.87\n",
            "\n",
            "Confusion Matrix of LR model\n",
            " [[71  0  4  8  5]\n",
            " [ 0 99 10  0  2]\n",
            " [ 1  2 81  4  0]\n",
            " [10  2  2 91  5]\n",
            " [ 2  1  1  6 93]]\n"
          ]
        }
      ]
    },
    {
      "cell_type": "markdown",
      "metadata": {
        "id": "lzCHD2ov-CFx"
      },
      "source": [
        "---\n",
        "# **CODE ENDS**\n",
        "---"
      ],
      "id": "lzCHD2ov-CFx"
    }
  ]
}